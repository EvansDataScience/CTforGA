{
 "cells": [
  {
   "cell_type": "code",
   "execution_count": 3,
   "id": "5f0ebde6",
   "metadata": {},
   "outputs": [],
   "source": [
    "Link=\"https://www.builtinseattle.com/2018/08/06/50-seattle-tech-twitter-accounts-to-follow\"\n",
    "\n",
    "from newspaper import Article\n",
    "\n",
    "article = Article(Link)\n",
    "article.download()"
   ]
  },
  {
   "cell_type": "code",
   "execution_count": 5,
   "id": "2b44fac5",
   "metadata": {},
   "outputs": [],
   "source": [
    "#article.html"
   ]
  },
  {
   "cell_type": "code",
   "execution_count": 6,
   "id": "9e5e2922",
   "metadata": {},
   "outputs": [],
   "source": [
    "article.parse()"
   ]
  },
  {
   "cell_type": "code",
   "execution_count": 13,
   "id": "4dead66c",
   "metadata": {},
   "outputs": [
    {
     "data": {
      "text/plain": [
       "['@Rich_Barton',\n",
       " '@toddbishop',\n",
       " '@ShaunaCausey',\n",
       " '@mcolacurcio',\n",
       " '@mattmday',\n",
       " '@crashdev',\n",
       " '@funcOfJoe',\n",
       " '@etzioni',\n",
       " '@LeslieFeinzaig',\n",
       " '@john_gabbert',\n",
       " '@2morrowknight',\n",
       " '@JenMsft',\n",
       " '@gilbert',\n",
       " '@BrettGreene',\n",
       " '@SoGulley',\n",
       " '@moniguzman',\n",
       " '@Kristen_Hammy',\n",
       " '@PeterHamilton',\n",
       " '@gigglegirl4e',\n",
       " '@Ryanintheus',\n",
       " '@nhuntwalker',\n",
       " '@akipman',\n",
       " '@lanctot',\n",
       " '@marybethlambert',\n",
       " '@rachelerman',\n",
       " '@lovelletters',\n",
       " '@sonalpmane',\n",
       " '@mattmcilwain',\n",
       " '@memcnally',\n",
       " '@medinism',\n",
       " '@daryn',\n",
       " '@matt_oppy',\n",
       " '@MissDestructo',\n",
       " '@eugenio_pace',\n",
       " '@DaveParkerSEA',\n",
       " '@hadip',\n",
       " '@heatherredman',\n",
       " '@juliesandler',\n",
       " '@danshapiro',\n",
       " '@rsingh68',\n",
       " '@stevesi',\n",
       " '@BradSmi',\n",
       " '@KieranSnyder',\n",
       " '@AdamStelle',\n",
       " '@ashannstew',\n",
       " '@sarahstood',\n",
       " '@jinman',\n",
       " '@tarah',\n",
       " '@kirbywinfield',\n",
       " '@Jenerationy']"
      ]
     },
     "execution_count": 13,
     "metadata": {},
     "output_type": "execute_result"
    }
   ],
   "source": [
    "import re\n",
    "xx = article.text\n",
    "allTw=[x.split()[1] for x in  re.findall(r\"Follow \\@\\w+\",xx)]\n",
    "allTw"
   ]
  },
  {
   "cell_type": "code",
   "execution_count": 12,
   "id": "1a66e276",
   "metadata": {},
   "outputs": [
    {
     "data": {
      "text/plain": [
       "50"
      ]
     },
     "execution_count": 12,
     "metadata": {},
     "output_type": "execute_result"
    }
   ],
   "source": [
    "len(allTw)"
   ]
  },
  {
   "cell_type": "code",
   "execution_count": null,
   "id": "75df366c",
   "metadata": {},
   "outputs": [],
   "source": [
    "#%%\n",
    "import json\n",
    "import tweepy\n",
    "\n",
    "# your credentials as a dictionary in a text file:\n",
    "keysAPI = json.load(open('keysAPI.txt','r'))\n",
    "api_key = keysAPI['consumer_key']\n",
    "api_secret_key = keysAPI['consumer_secret']\n",
    "access_token = keysAPI['access_token']\n",
    "access_token_secret = keysAPI['access_token_secret']\n",
    "\n",
    "# authorizing your application:\n",
    "auth = tweepy.OAuthHandler(api_key, api_secret_key)\n",
    "auth.set_access_token(access_token, access_token_secret)\n",
    "\n",
    "# some extra attributes\n",
    "api=tweepy.API(auth, \n",
    "               retry_count=3,\n",
    "               timeout=600,\n",
    "               wait_on_rate_limit=True,\n",
    "               wait_on_rate_limit_notify=True,\n",
    "               parser=tweepy.parsers.JSONParser())"
   ]
  },
  {
   "cell_type": "code",
   "execution_count": null,
   "id": "973d361c",
   "metadata": {},
   "outputs": [],
   "source": [
    "import itertools\n",
    "import networkx as nx\n",
    "\n",
    "net = nx.DiGraph()\n",
    "for a,b in itertools.combinations(twusers.twitter,2):\n",
    "   res=api.show_friendship(source_screen_name=a,target_screen_name=b)\n",
    "   status=res['relationship']['source']['following'], res['relationship']['target']['following']\n",
    "   if status[0] and status[1]:\n",
    "       net.add_edge(a, b)\n",
    "       net.add_edge(b, a)\n",
    "   if status[0] and not status[1]:\n",
    "       net.add_edge(a, b)\n",
    "   if not status[0] and status[1]:\n",
    "       net.add_edge(b, a)\n"
   ]
  }
 ],
 "metadata": {
  "kernelspec": {
   "display_name": "Python 3 (ipykernel)",
   "language": "python",
   "name": "python3"
  },
  "language_info": {
   "codemirror_mode": {
    "name": "ipython",
    "version": 3
   },
   "file_extension": ".py",
   "mimetype": "text/x-python",
   "name": "python",
   "nbconvert_exporter": "python",
   "pygments_lexer": "ipython3",
   "version": "3.11.0"
  }
 },
 "nbformat": 4,
 "nbformat_minor": 5
}
