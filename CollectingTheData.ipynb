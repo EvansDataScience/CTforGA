{
 "cells": [
  {
   "cell_type": "markdown",
   "metadata": {},
   "source": [
    "<center><img src=\"http://i.imgur.com/sSaOozN.png\" width=\"500\"></center>"
   ]
  },
  {
   "cell_type": "markdown",
   "metadata": {},
   "source": [
    "## Course: Computational Thinking for Governance Analytics\n",
    "\n",
    "### Prof. José Manuel Magallanes, PhD \n",
    "* Visiting Professor of Computational Policy at Evans School of Public Policy and Governance, and eScience Institute Senior Data Science Fellow, University of Washington.\n",
    "* Professor of Government and Political Methodology, Pontificia Universidad Católica del Perú. \n",
    "\n",
    "_____\n",
    "<a id='home'></a>\n",
    "\n",
    "# Data collecting"
   ]
  },
  {
   "cell_type": "markdown",
   "metadata": {},
   "source": [
    "0. [The GitHub Repo](#part0) \n",
    "1. [Uploading files](#part1a)\n",
    "2. [APIs](#part2) \n",
    "3. [Scraping](#part3) \n",
    "4. [Social media](#part4) "
   ]
  },
  {
   "cell_type": "markdown",
   "metadata": {},
   "source": [
    "____\n",
    "<a id='part0'></a>\n",
    "\n",
    "## 0. The GitHub Repo\n",
    "\n",
    "**Where is the Data?**\n",
    "**Where is the Code?**\n",
    "\n",
    "We used GitHub as a way to organize our work. It transforming the way you acces your code and data beyond your local machine; giving you the feeling you are in the cloud. Follow these steps now:\n",
    "\n",
    "1. Go to [github.com](https://github.com/), and sign up. Remember your _username_ and _password_.\n",
    "2. Install the Github *desktop app* in your computer. It is available [here](https://desktop.github.com/). Sign in to the app using your _username_ and _password_.\n",
    "3. Once you are signed in, go back to the Github web, and create a _repository_. Choose a name. **DO NOT forget** to select the option to add a READ ME file, choose a **LICENSE** too (I recommend MIT).\n",
    "4. **Clone** the repository just created into your computer. You can select where to clone the repository, avoid cloning into another's app folder.\n",
    "\n",
    "\n",
    "After those steps, let's open the data file that you find [here](https://drive.google.com/drive/folders/1uH6S-8rns8THDnBRCy3OGLEki9LjyTCL?usp=sharing). Once you open the file, you will see something like this:\n"
   ]
  },
  {
   "cell_type": "code",
   "execution_count": null,
   "metadata": {},
   "outputs": [],
   "source": [
    "from IPython.display import IFrame  \n",
    "wikiLink=\"https://docs.google.com/spreadsheets/d/e/2PACX-1vRXdVAxZTnQ6N7bI1xJ_XRQSoG-FsiucGI_fsyBuKCi6TcO3guGB_-6nk4i6so7SG__eIpfS0o8pUuZ/pubhtml?widget=true&amp;headers=false\" \n",
    "IFrame(wikiLink, width=700, height=300)"
   ]
  },
  {
   "cell_type": "markdown",
   "metadata": {},
   "source": [
    "Understanding what you see is not straightforward:\n",
    "\n",
    "* What does this data represent?\n",
    "* What is this data table talking about?\n",
    "* What does each column represent?\n",
    "* What possible mistakes can appear in the data values?\n",
    "* What variables will be useful for my hypotheses and goals?\n",
    "\n",
    "If this is the first time you tun into a data set like this, you first need to **read** the documentation of the data (available in the same folder).\n",
    "\n",
    "At this stage, you can download this data from GoogleDocs into the folder cloned from GitHub (now in your local machine). Download it first as a CSV file into your computer. \n",
    "\n",
    "Now, open GitHub Desktop App. You will see that the app is trying to tell you some changes have ocurred in your local folder cloned from GitHub. Now, let's **Commit** and **Push**, that will syncronize contents in your local repo and your cloud repo.\n",
    "\n",
    "In *my own* repo, it looks like [this](https://github.com/EvansDataScience/data/blob/master/hsb_ok_google%20-%20data.csv).\n",
    "\n",
    "GitHub allows you to see the data contents (it is not always possible). Now, find the icon **raw** and copy its link address (**do not** copy the URL of the page). This is mine:\n",
    "\n",
    "https://github.com/EvansDataScience/data/raw/master/hsb_ok_google%20-%20data.csv\n",
    "\n",
    "Now let's get ready for Python."
   ]
  },
  {
   "cell_type": "markdown",
   "metadata": {},
   "source": [
    "____\n",
    "<a id='part1a'></a>\n",
    "\n",
    "## 1. Uploading files"
   ]
  },
  {
   "cell_type": "markdown",
   "metadata": {},
   "source": [
    "The file we are planing to read into Python is a data table. Python needs support from one of its libraries to deal with data tables: **PANDAS**:\n",
    "\n",
    "* Check if you already have Pandas.\n",
    "* If you do not have it, install it."
   ]
  },
  {
   "cell_type": "code",
   "execution_count": null,
   "metadata": {},
   "outputs": [],
   "source": [
    "# do I have it?\n",
    "!pip show pandas"
   ]
  },
  {
   "cell_type": "code",
   "execution_count": null,
   "metadata": {},
   "outputs": [],
   "source": [
    "# if you do not have it:\n",
    "#!pip install pandas"
   ]
  },
  {
   "cell_type": "markdown",
   "metadata": {},
   "source": [
    "Now that I have it, I can read in the data, so that I can work on it:"
   ]
  },
  {
   "cell_type": "code",
   "execution_count": null,
   "metadata": {},
   "outputs": [],
   "source": [
    "# call pandas\n",
    "import pandas as pd # 'pd' is a nickname\n",
    "\n",
    "# use a function from pandas to read the cloud data into a Python object\n",
    "gitCloudRepo='https://github.com/EvansDataScience/data/raw/master/'\n",
    "fileName=\"hsb_ok_google%20-%20data.csv\"\n",
    "DFcsv=pd.read_csv(gitCloudRepo + fileName)"
   ]
  },
  {
   "cell_type": "markdown",
   "metadata": {},
   "source": [
    "If Python has not **complained**, that is, you got no error messages; then, you are good to continue!\n",
    "\n",
    "The **DFcsv** Python object holds the data:"
   ]
  },
  {
   "cell_type": "code",
   "execution_count": null,
   "metadata": {},
   "outputs": [],
   "source": [
    "DFcsv"
   ]
  },
  {
   "cell_type": "markdown",
   "metadata": {},
   "source": [
    "This object is of a particular type:"
   ]
  },
  {
   "cell_type": "code",
   "execution_count": null,
   "metadata": {},
   "outputs": [],
   "source": [
    "type(DFcsv)"
   ]
  },
  {
   "cell_type": "markdown",
   "metadata": {},
   "source": [
    "The type is **Data Frame** (DF). We will see several functions that can be applied to DFs. Let me show you some basic ones."
   ]
  },
  {
   "cell_type": "code",
   "execution_count": null,
   "metadata": {},
   "outputs": [],
   "source": [
    "# dimensions (rows,columns)\n",
    "DFcsv.shape"
   ]
  },
  {
   "cell_type": "code",
   "execution_count": null,
   "metadata": {},
   "outputs": [],
   "source": [
    "# top / bottom\n",
    "DFcsv.head(10) #tail()"
   ]
  },
  {
   "cell_type": "code",
   "execution_count": null,
   "metadata": {},
   "outputs": [],
   "source": [
    "# column names\n",
    "DFcsv.columns"
   ]
  },
  {
   "cell_type": "code",
   "execution_count": null,
   "metadata": {},
   "outputs": [],
   "source": [
    "# access by index position\n",
    "DFcsv.iloc[:,4]"
   ]
  },
  {
   "cell_type": "code",
   "execution_count": null,
   "metadata": {},
   "outputs": [],
   "source": [
    "# access by index names\n",
    "DFcsv.loc[:,'sctyp']"
   ]
  },
  {
   "cell_type": "code",
   "execution_count": null,
   "metadata": {},
   "outputs": [],
   "source": [
    "# subdata frame\n",
    "DFcsv[['sctyp']]"
   ]
  },
  {
   "cell_type": "markdown",
   "metadata": {},
   "source": [
    "And the most important for future sessions:"
   ]
  },
  {
   "cell_type": "code",
   "execution_count": null,
   "metadata": {},
   "outputs": [],
   "source": [
    "DFcsv.info() # the data type Python has assigned"
   ]
  },
  {
   "cell_type": "markdown",
   "metadata": {},
   "source": [
    "Python will not care about the original data file (CSV, EXCEL. etc.), once they are read into Python you will have a DF."
   ]
  },
  {
   "cell_type": "markdown",
   "metadata": {},
   "source": [
    "**Proprietary Sofware**\n",
    "\n",
    "Several times, you may find that you are given a file that was previously prepared with proprietary software. The most common in the policy field are:\n",
    "\n",
    "* SPSS (file extension: **sav**).\n",
    "* STATA (file extension: **dta**).\n",
    "* EXCEL (file extension: **xlsx** or **xls**).\n",
    "\n",
    "Getting these files up and running might not bring much pre processing challenges. However, you may need different levels of effort to read them from **GitHub**: they will not be as easy to open as a CSV.\n",
    "\n",
    "Download [these files](https://drive.google.com/drive/folders/1XxTztY6rFkGwbR7wUtO_xiD4xvBrFqJN?usp=share_link) into the repository where your CSV file is currently stored in your local machine, then commit and push. We can create the links to each of them. Using my repo as an example:"
   ]
  },
  {
   "cell_type": "code",
   "execution_count": null,
   "metadata": {},
   "outputs": [],
   "source": [
    "gitCloudRepo + fileName\n",
    "\n",
    "\n",
    "linkToSTATA=gitCloudRepo+'hsb_ok.dta'\n",
    "linkToSPSS=gitCloudRepo+'hsb_ok.sav'\n",
    "linkToEXCEL=gitCloudRepo+'hsb_ok.xlsx'"
   ]
  },
  {
   "cell_type": "markdown",
   "metadata": {},
   "source": [
    "**Exercise:**\n",
    "    \n",
    "Open the other files (excel, spss, stata). Check if all the functions work well with the DFs created. Verify if the results are the same."
   ]
  },
  {
   "cell_type": "markdown",
   "metadata": {},
   "source": [
    "[home](#home)\n",
    "\n",
    "____\n",
    "\n",
    "<a id='part2'></a>\n",
    "\n",
    "## 2. Collecting data from APIs\n",
    "\n",
    "Open data portals from the government and other organizations have APIs, a service that allows you to collect their data. Let's take a look a Seattle data about [Seattle Real Time Fire 911 Calls](https://dev.socrata.com/foundry/data.seattle.gov/kzjm-xkqj)."
   ]
  },
  {
   "cell_type": "markdown",
   "metadata": {},
   "source": [
    "That page tells you how to get the data into pandas. But first, you need to install **sodapy**. Then you can continue:"
   ]
  },
  {
   "cell_type": "code",
   "execution_count": null,
   "metadata": {},
   "outputs": [],
   "source": [
    "#!pip install sodapy"
   ]
  },
  {
   "cell_type": "markdown",
   "metadata": {},
   "source": [
    "Let's follow some steps, according to the API:"
   ]
  },
  {
   "cell_type": "code",
   "execution_count": null,
   "metadata": {},
   "outputs": [],
   "source": [
    "from sodapy import Socrata\n",
    "\n",
    "# Unauthenticated client (using 'None')\n",
    "\n",
    "client = Socrata(\"data.seattle.gov\", None)\n",
    "\n",
    "# If you have credentials:\n",
    "# client = Socrata(data.seattle.gov,\n",
    "#                  MyAppToken,\n",
    "#                  username=\"user@example.com\",\n",
    "#                  password=\"AFakePassword\")\n",
    "\n",
    "# First 500 results, returned as JSON from API / converted to Python list of\n",
    "# dictionaries by sodapy.\n",
    "results = client.get(\"kzjm-xkqj\", limit=2000)\n",
    "\n",
    "# Convert to pandas DataFrame\n",
    "results_df = pd.DataFrame.from_records(results)"
   ]
  },
  {
   "cell_type": "markdown",
   "metadata": {},
   "source": [
    "You can see the results now:"
   ]
  },
  {
   "cell_type": "code",
   "execution_count": null,
   "metadata": {},
   "outputs": [],
   "source": [
    "results_df"
   ]
  },
  {
   "cell_type": "markdown",
   "metadata": {},
   "source": [
    "Data from APIs may need some more pre processing than the previous files. Besides, you should study the API documentation to know how to interact with the portal. Not every open data portal behaves the same."
   ]
  },
  {
   "cell_type": "markdown",
   "metadata": {},
   "source": [
    "[home](#home)\n",
    "____\n",
    "<a id='part3'></a>\n",
    "\n",
    "## 3. Scraping"
   ]
  },
  {
   "cell_type": "markdown",
   "metadata": {},
   "source": [
    "Sometimes you are interested in data from the web. Let me get a table from wikipedia:"
   ]
  },
  {
   "cell_type": "code",
   "execution_count": 30,
   "metadata": {},
   "outputs": [
    {
     "data": {
      "text/html": [
       "\n",
       "        <iframe\n",
       "            width=\"700\"\n",
       "            height=\"300\"\n",
       "            src=\"https://en.wikipedia.org/wiki/Democracy_Index\"\n",
       "            frameborder=\"0\"\n",
       "            allowfullscreen\n",
       "            \n",
       "        ></iframe>\n",
       "        "
      ],
      "text/plain": [
       "<IPython.lib.display.IFrame at 0x7fae87dd5090>"
      ]
     },
     "execution_count": 30,
     "metadata": {},
     "output_type": "execute_result"
    }
   ],
   "source": [
    "from IPython.display import IFrame  \n",
    "wikiLink=\"https://en.wikipedia.org/wiki/Democracy_Index\" \n",
    "IFrame(wikiLink, width=700, height=300)"
   ]
  },
  {
   "cell_type": "markdown",
   "metadata": {},
   "source": [
    "I will use pandas to get the table, but you need to install these first:\n",
    "* html5lib \n",
    "* beautifulsoup4\n",
    "* lxml"
   ]
  },
  {
   "cell_type": "code",
   "execution_count": 31,
   "metadata": {},
   "outputs": [],
   "source": [
    "dataWIKI=pd.read_html(wikiLink,header=0,flavor='bs4',attrs={'class': 'wikitable'})"
   ]
  },
  {
   "cell_type": "markdown",
   "metadata": {},
   "source": [
    "Pandas has this command **read_html** that will save lots of coding, above I just said:\n",
    "* The link to the webpage.\n",
    "* The position of the header.\n",
    "* The external library that will be used to extract the text (_flavor_).\n",
    "* The attributes of the table."
   ]
  },
  {
   "cell_type": "markdown",
   "metadata": {},
   "source": [
    "dataWIKI is not a data frame:"
   ]
  },
  {
   "cell_type": "code",
   "execution_count": 32,
   "metadata": {},
   "outputs": [
    {
     "data": {
      "text/plain": [
       "list"
      ]
     },
     "execution_count": 32,
     "metadata": {},
     "output_type": "execute_result"
    }
   ],
   "source": [
    "type(dataWIKI)"
   ]
  },
  {
   "cell_type": "markdown",
   "metadata": {},
   "source": [
    "The command **read_html** returns all the elements from the link with the same attributes. Let's see how many there are:"
   ]
  },
  {
   "cell_type": "code",
   "execution_count": 33,
   "metadata": {},
   "outputs": [
    {
     "data": {
      "text/plain": [
       "5"
      ]
     },
     "execution_count": 33,
     "metadata": {},
     "output_type": "execute_result"
    }
   ],
   "source": [
    "len(dataWIKI)"
   ]
  },
  {
   "cell_type": "markdown",
   "metadata": {},
   "source": [
    "This means you have five DFs. Is ours the first one?"
   ]
  },
  {
   "cell_type": "code",
   "execution_count": 34,
   "metadata": {},
   "outputs": [
    {
     "data": {
      "text/html": [
       "<div>\n",
       "<style scoped>\n",
       "    .dataframe tbody tr th:only-of-type {\n",
       "        vertical-align: middle;\n",
       "    }\n",
       "\n",
       "    .dataframe tbody tr th {\n",
       "        vertical-align: top;\n",
       "    }\n",
       "\n",
       "    .dataframe thead th {\n",
       "        text-align: right;\n",
       "    }\n",
       "</style>\n",
       "<table border=\"1\" class=\"dataframe\">\n",
       "  <thead>\n",
       "    <tr style=\"text-align: right;\">\n",
       "      <th></th>\n",
       "      <th>Type of regime</th>\n",
       "      <th>Score</th>\n",
       "      <th>Countries</th>\n",
       "      <th>Countries.1</th>\n",
       "      <th>Proportion ofWorld population (%)</th>\n",
       "    </tr>\n",
       "  </thead>\n",
       "  <tbody>\n",
       "    <tr>\n",
       "      <th>0</th>\n",
       "      <td>Type of regime</td>\n",
       "      <td>Score</td>\n",
       "      <td>Number</td>\n",
       "      <td>(%)</td>\n",
       "      <td>Proportion ofWorld population (%)</td>\n",
       "    </tr>\n",
       "    <tr>\n",
       "      <th>1</th>\n",
       "      <td>Full democracies</td>\n",
       "      <td>9.01–10.00 8.01–9.00</td>\n",
       "      <td>21</td>\n",
       "      <td>12.6%</td>\n",
       "      <td>6.4%</td>\n",
       "    </tr>\n",
       "    <tr>\n",
       "      <th>2</th>\n",
       "      <td>Flawed democracies</td>\n",
       "      <td>7.01–8.00 6.01–7.00</td>\n",
       "      <td>53</td>\n",
       "      <td>31.7%</td>\n",
       "      <td>39.3%</td>\n",
       "    </tr>\n",
       "    <tr>\n",
       "      <th>3</th>\n",
       "      <td>Hybrid regimes</td>\n",
       "      <td>5.01–6.00 4.01–5.00</td>\n",
       "      <td>34</td>\n",
       "      <td>20.4%</td>\n",
       "      <td>17.2%</td>\n",
       "    </tr>\n",
       "    <tr>\n",
       "      <th>4</th>\n",
       "      <td>Authoritarian regimes</td>\n",
       "      <td>3.01–4.00 0–3.00</td>\n",
       "      <td>59</td>\n",
       "      <td>35.3%</td>\n",
       "      <td>37.1%</td>\n",
       "    </tr>\n",
       "  </tbody>\n",
       "</table>\n",
       "</div>"
      ],
      "text/plain": [
       "          Type of regime                 Score Countries Countries.1  \\\n",
       "0         Type of regime                 Score    Number         (%)   \n",
       "1       Full democracies  9.01–10.00 8.01–9.00        21       12.6%   \n",
       "2     Flawed democracies   7.01–8.00 6.01–7.00        53       31.7%   \n",
       "3         Hybrid regimes   5.01–6.00 4.01–5.00        34       20.4%   \n",
       "4  Authoritarian regimes      3.01–4.00 0–3.00        59       35.3%   \n",
       "\n",
       "   Proportion ofWorld population (%)  \n",
       "0  Proportion ofWorld population (%)  \n",
       "1                               6.4%  \n",
       "2                              39.3%  \n",
       "3                              17.2%  \n",
       "4                              37.1%  "
      ]
     },
     "execution_count": 34,
     "metadata": {},
     "output_type": "execute_result"
    }
   ],
   "source": [
    "# remember that Python starts counting in ZERO!\n",
    "dataWIKI[0]"
   ]
  },
  {
   "cell_type": "markdown",
   "metadata": {},
   "source": [
    "or the last one?"
   ]
  },
  {
   "cell_type": "code",
   "execution_count": 35,
   "metadata": {},
   "outputs": [
    {
     "data": {
      "text/html": [
       "<div>\n",
       "<style scoped>\n",
       "    .dataframe tbody tr th:only-of-type {\n",
       "        vertical-align: middle;\n",
       "    }\n",
       "\n",
       "    .dataframe tbody tr th {\n",
       "        vertical-align: top;\n",
       "    }\n",
       "\n",
       "    .dataframe thead th {\n",
       "        text-align: right;\n",
       "    }\n",
       "</style>\n",
       "<table border=\"1\" class=\"dataframe\">\n",
       "  <thead>\n",
       "    <tr style=\"text-align: right;\">\n",
       "      <th></th>\n",
       "      <th>Rank</th>\n",
       "      <th>.mw-parser-output .tooltip-dotted{border-bottom:1px dotted;cursor:help}Δ Rank</th>\n",
       "      <th>Country</th>\n",
       "      <th>Regime type</th>\n",
       "      <th>Overall score</th>\n",
       "      <th>Δ Score</th>\n",
       "      <th>Elec­toral pro­cessand plura­lism</th>\n",
       "      <th>Func­tioningof govern­ment</th>\n",
       "      <th>Poli­ticalpartici­pation</th>\n",
       "      <th>Poli­ticalcul­ture</th>\n",
       "      <th>Civilliber­ties</th>\n",
       "    </tr>\n",
       "  </thead>\n",
       "  <tbody>\n",
       "    <tr>\n",
       "      <th>0</th>\n",
       "      <td>Full democracies</td>\n",
       "      <td>Full democracies</td>\n",
       "      <td>Full democracies</td>\n",
       "      <td>Full democracies</td>\n",
       "      <td>Full democracies</td>\n",
       "      <td>Full democracies</td>\n",
       "      <td>Full democracies</td>\n",
       "      <td>Full democracies</td>\n",
       "      <td>Full democracies</td>\n",
       "      <td>Full democracies</td>\n",
       "      <td>Full democracies</td>\n",
       "    </tr>\n",
       "    <tr>\n",
       "      <th>1</th>\n",
       "      <td>1</td>\n",
       "      <td>NaN</td>\n",
       "      <td>Norway</td>\n",
       "      <td>Full democracy</td>\n",
       "      <td>9.75</td>\n",
       "      <td>0.06</td>\n",
       "      <td>10.00</td>\n",
       "      <td>9.64</td>\n",
       "      <td>10.00</td>\n",
       "      <td>10.00</td>\n",
       "      <td>9.12</td>\n",
       "    </tr>\n",
       "    <tr>\n",
       "      <th>2</th>\n",
       "      <td>2</td>\n",
       "      <td>2</td>\n",
       "      <td>New Zealand</td>\n",
       "      <td>Full democracy</td>\n",
       "      <td>9.37</td>\n",
       "      <td>0.12</td>\n",
       "      <td>10.00</td>\n",
       "      <td>8.93</td>\n",
       "      <td>9.44</td>\n",
       "      <td>8.75</td>\n",
       "      <td>9.71</td>\n",
       "    </tr>\n",
       "    <tr>\n",
       "      <th>3</th>\n",
       "      <td>3</td>\n",
       "      <td>3</td>\n",
       "      <td>Finland</td>\n",
       "      <td>Full democracy</td>\n",
       "      <td>9.27</td>\n",
       "      <td>0.07</td>\n",
       "      <td>10.00</td>\n",
       "      <td>9.29</td>\n",
       "      <td>8.89</td>\n",
       "      <td>8.75</td>\n",
       "      <td>9.41</td>\n",
       "    </tr>\n",
       "    <tr>\n",
       "      <th>4</th>\n",
       "      <td>4</td>\n",
       "      <td>1</td>\n",
       "      <td>Sweden</td>\n",
       "      <td>Full democracy</td>\n",
       "      <td>9.26</td>\n",
       "      <td>NaN</td>\n",
       "      <td>9.58</td>\n",
       "      <td>9.29</td>\n",
       "      <td>8.33</td>\n",
       "      <td>10.00</td>\n",
       "      <td>9.12</td>\n",
       "    </tr>\n",
       "    <tr>\n",
       "      <th>...</th>\n",
       "      <td>...</td>\n",
       "      <td>...</td>\n",
       "      <td>...</td>\n",
       "      <td>...</td>\n",
       "      <td>...</td>\n",
       "      <td>...</td>\n",
       "      <td>...</td>\n",
       "      <td>...</td>\n",
       "      <td>...</td>\n",
       "      <td>...</td>\n",
       "      <td>...</td>\n",
       "    </tr>\n",
       "    <tr>\n",
       "      <th>166</th>\n",
       "      <td>162</td>\n",
       "      <td>2</td>\n",
       "      <td>Central African Republic</td>\n",
       "      <td>Authoritarian</td>\n",
       "      <td>1.43</td>\n",
       "      <td>0.11</td>\n",
       "      <td>1.25</td>\n",
       "      <td>0.00</td>\n",
       "      <td>1.67</td>\n",
       "      <td>1.88</td>\n",
       "      <td>2.35</td>\n",
       "    </tr>\n",
       "    <tr>\n",
       "      <th>167</th>\n",
       "      <td>164</td>\n",
       "      <td>2</td>\n",
       "      <td>Democratic Republic of the Congo</td>\n",
       "      <td>Authoritarian</td>\n",
       "      <td>1.40</td>\n",
       "      <td>0.27</td>\n",
       "      <td>0.75</td>\n",
       "      <td>0.00</td>\n",
       "      <td>2.22</td>\n",
       "      <td>3.13</td>\n",
       "      <td>0.88</td>\n",
       "    </tr>\n",
       "    <tr>\n",
       "      <th>168</th>\n",
       "      <td>165</td>\n",
       "      <td>2</td>\n",
       "      <td>North Korea</td>\n",
       "      <td>Authoritarian</td>\n",
       "      <td>1.08</td>\n",
       "      <td>NaN</td>\n",
       "      <td>0.00</td>\n",
       "      <td>2.50</td>\n",
       "      <td>1.67</td>\n",
       "      <td>1.25</td>\n",
       "      <td>0.00</td>\n",
       "    </tr>\n",
       "    <tr>\n",
       "      <th>169</th>\n",
       "      <td>166</td>\n",
       "      <td>31</td>\n",
       "      <td>Myanmar</td>\n",
       "      <td>Authoritarian</td>\n",
       "      <td>1.02</td>\n",
       "      <td>2.04</td>\n",
       "      <td>0.00</td>\n",
       "      <td>0.00</td>\n",
       "      <td>1.67</td>\n",
       "      <td>3.13</td>\n",
       "      <td>0.29</td>\n",
       "    </tr>\n",
       "    <tr>\n",
       "      <th>170</th>\n",
       "      <td>167</td>\n",
       "      <td>28</td>\n",
       "      <td>Afghanistan</td>\n",
       "      <td>Authoritarian</td>\n",
       "      <td>0.32</td>\n",
       "      <td>2.53</td>\n",
       "      <td>0.00</td>\n",
       "      <td>0.07</td>\n",
       "      <td>0.00</td>\n",
       "      <td>1.25</td>\n",
       "      <td>0.29</td>\n",
       "    </tr>\n",
       "  </tbody>\n",
       "</table>\n",
       "<p>171 rows × 11 columns</p>\n",
       "</div>"
      ],
      "text/plain": [
       "                 Rank  \\\n",
       "0    Full democracies   \n",
       "1                   1   \n",
       "2                   2   \n",
       "3                   3   \n",
       "4                   4   \n",
       "..                ...   \n",
       "166               162   \n",
       "167               164   \n",
       "168               165   \n",
       "169               166   \n",
       "170               167   \n",
       "\n",
       "    .mw-parser-output .tooltip-dotted{border-bottom:1px dotted;cursor:help}Δ Rank  \\\n",
       "0                                     Full democracies                              \n",
       "1                                                  NaN                              \n",
       "2                                                    2                              \n",
       "3                                                    3                              \n",
       "4                                                    1                              \n",
       "..                                                 ...                              \n",
       "166                                                  2                              \n",
       "167                                                  2                              \n",
       "168                                                  2                              \n",
       "169                                                 31                              \n",
       "170                                                 28                              \n",
       "\n",
       "                              Country       Regime type     Overall score  \\\n",
       "0                    Full democracies  Full democracies  Full democracies   \n",
       "1                              Norway    Full democracy              9.75   \n",
       "2                         New Zealand    Full democracy              9.37   \n",
       "3                             Finland    Full democracy              9.27   \n",
       "4                              Sweden    Full democracy              9.26   \n",
       "..                                ...               ...               ...   \n",
       "166          Central African Republic     Authoritarian              1.43   \n",
       "167  Democratic Republic of the Congo     Authoritarian              1.40   \n",
       "168                       North Korea     Authoritarian              1.08   \n",
       "169                           Myanmar     Authoritarian              1.02   \n",
       "170                       Afghanistan     Authoritarian              0.32   \n",
       "\n",
       "              Δ Score Elec­toral pro­cessand plura­lism  \\\n",
       "0    Full democracies                  Full democracies   \n",
       "1                0.06                             10.00   \n",
       "2                0.12                             10.00   \n",
       "3                0.07                             10.00   \n",
       "4                 NaN                              9.58   \n",
       "..                ...                               ...   \n",
       "166              0.11                              1.25   \n",
       "167              0.27                              0.75   \n",
       "168               NaN                              0.00   \n",
       "169              2.04                              0.00   \n",
       "170              2.53                              0.00   \n",
       "\n",
       "    Func­tioningof govern­ment Poli­ticalpartici­pation Poli­ticalcul­ture  \\\n",
       "0             Full democracies         Full democracies   Full democracies   \n",
       "1                         9.64                    10.00              10.00   \n",
       "2                         8.93                     9.44               8.75   \n",
       "3                         9.29                     8.89               8.75   \n",
       "4                         9.29                     8.33              10.00   \n",
       "..                         ...                      ...                ...   \n",
       "166                       0.00                     1.67               1.88   \n",
       "167                       0.00                     2.22               3.13   \n",
       "168                       2.50                     1.67               1.25   \n",
       "169                       0.00                     1.67               3.13   \n",
       "170                       0.07                     0.00               1.25   \n",
       "\n",
       "      Civilliber­ties  \n",
       "0    Full democracies  \n",
       "1                9.12  \n",
       "2                9.71  \n",
       "3                9.41  \n",
       "4                9.12  \n",
       "..                ...  \n",
       "166              2.35  \n",
       "167              0.88  \n",
       "168              0.00  \n",
       "169              0.29  \n",
       "170              0.29  \n",
       "\n",
       "[171 rows x 11 columns]"
      ]
     },
     "execution_count": 35,
     "metadata": {},
     "output_type": "execute_result"
    }
   ],
   "source": [
    "dataWIKI[4]"
   ]
  },
  {
   "cell_type": "markdown",
   "metadata": {},
   "source": [
    "Tables scrapped will bring different cleaning challenges. \n",
    "\n",
    "[home](#home)\n",
    "____\n",
    "<a id='part4'></a>\n",
    "\n",
    "## Social media data"
   ]
  },
  {
   "cell_type": "markdown",
   "metadata": {},
   "source": [
    "Social media offer APIs too that allow you to get _some_ data. To use this service, you need to register as a developer. For our Twitter example, you should go [here](https://developer.twitter.com/en).\n",
    "Once you are a confirmed developer, Twitter, Facebook and others will allow you to get _some_ of their data (the more you pay the more they offer). \n",
    "\n",
    "Let's pay attention to Twitter. First, check if you have **tweepy**:"
   ]
  },
  {
   "cell_type": "code",
   "execution_count": null,
   "metadata": {},
   "outputs": [],
   "source": [
    "!pip show tweepy"
   ]
  },
  {
   "cell_type": "code",
   "execution_count": null,
   "metadata": {},
   "outputs": [],
   "source": [
    "#!pip install tweepy"
   ]
  },
  {
   "cell_type": "markdown",
   "metadata": {},
   "source": [
    "Tweepy is the key library, but you may need several other libraries according to your goals."
   ]
  },
  {
   "cell_type": "code",
   "execution_count": 1,
   "metadata": {},
   "outputs": [],
   "source": [
    "import tweepy"
   ]
  },
  {
   "cell_type": "markdown",
   "metadata": {},
   "source": [
    "Let me introduce myself to Twitter:"
   ]
  },
  {
   "cell_type": "code",
   "execution_count": 8,
   "metadata": {},
   "outputs": [],
   "source": [
    "# credentials from a file\n",
    "import json\n",
    "keysAPI = json.load(open('APIkeys.txt','r'))\n",
    "\n",
    "# getting info from the file\n",
    "api_key = keysAPI['api_key']\n",
    "api_key_secret = keysAPI['api_key_secret']\n",
    "access_token = keysAPI['access_token']\n",
    "access_token_secret = keysAPI['access_token_secret']\n",
    "\n",
    "# introducing myself:\n",
    "auth = tweepy.OAuthHandler(api_key, api_key_secret)\n",
    "auth.set_access_token(access_token, access_token_secret)\n",
    "api=tweepy.API(auth, wait_on_rate_limit=True,timeout=60,\n",
    "               parser=tweepy.parsers.JSONParser())"
   ]
  },
  {
   "cell_type": "markdown",
   "metadata": {},
   "source": [
    "Let me ask for some tweets from a particular user:"
   ]
  },
  {
   "cell_type": "code",
   "execution_count": 46,
   "metadata": {},
   "outputs": [],
   "source": [
    "who='@WAStateGov'\n",
    "howMany=100\n",
    "gottenTweets = api.user_timeline(screen_name = who, \n",
    "                                 count = howMany, \n",
    "                                 include_rts = True,\n",
    "                                 tweet_mode=\"extended\")"
   ]
  },
  {
   "cell_type": "markdown",
   "metadata": {},
   "source": [
    "In the previous cases, I got a table (a data frame), you should always check what you have:"
   ]
  },
  {
   "cell_type": "code",
   "execution_count": 69,
   "metadata": {},
   "outputs": [
    {
     "data": {
      "text/plain": [
       "list"
      ]
     },
     "execution_count": 69,
     "metadata": {},
     "output_type": "execute_result"
    }
   ],
   "source": [
    "type(gottenTweets)"
   ]
  },
  {
   "cell_type": "markdown",
   "metadata": {},
   "source": [
    "I have a list, then I could ask how many tweets I got (just to confirm):"
   ]
  },
  {
   "cell_type": "code",
   "execution_count": 70,
   "metadata": {},
   "outputs": [
    {
     "data": {
      "text/plain": [
       "100"
      ]
     },
     "execution_count": 70,
     "metadata": {},
     "output_type": "execute_result"
    }
   ],
   "source": [
    "len(gottenTweets)"
   ]
  },
  {
   "cell_type": "markdown",
   "metadata": {},
   "source": [
    "Let me view what I have in the first tweet:"
   ]
  },
  {
   "cell_type": "code",
   "execution_count": 71,
   "metadata": {},
   "outputs": [
    {
     "data": {
      "text/plain": [
       "{'created_at': 'Tue Dec 06 00:05:12 +0000 2022',\n",
       " 'id': 1599917840953651200,\n",
       " 'id_str': '1599917840953651200',\n",
       " 'full_text': '#TheDailyGov: ‘This is what we need’ Inslee says of Catalyst Project opening Monday; After decade, same-sex marriage law not so controversial; Shelved since 2018, WA gun law may be implemented; Dealing with the flu or a cold?; Real ID deadline extended. https://t.co/O4VPPiEWML https://t.co/w081Rj4NDz',\n",
       " 'truncated': False,\n",
       " 'display_text_range': [0, 277],\n",
       " 'entities': {'hashtags': [{'text': 'TheDailyGov', 'indices': [0, 12]}],\n",
       "  'symbols': [],\n",
       "  'user_mentions': [],\n",
       "  'urls': [{'url': 'https://t.co/O4VPPiEWML',\n",
       "    'expanded_url': 'https://www.governor.wa.gov/news-media/news-media/daily-gov-news-clips',\n",
       "    'display_url': 'governor.wa.gov/news-media/new…',\n",
       "    'indices': [254, 277]}],\n",
       "  'media': [{'id': 1599917715950817281,\n",
       "    'id_str': '1599917715950817281',\n",
       "    'indices': [278, 301],\n",
       "    'media_url': 'http://pbs.twimg.com/media/FjQMr5kaUAE3nME.jpg',\n",
       "    'media_url_https': 'https://pbs.twimg.com/media/FjQMr5kaUAE3nME.jpg',\n",
       "    'url': 'https://t.co/w081Rj4NDz',\n",
       "    'display_url': 'pic.twitter.com/w081Rj4NDz',\n",
       "    'expanded_url': 'https://twitter.com/WAStateGov/status/1599917840953651200/photo/1',\n",
       "    'type': 'photo',\n",
       "    'sizes': {'thumb': {'w': 150, 'h': 150, 'resize': 'crop'},\n",
       "     'small': {'w': 680, 'h': 383, 'resize': 'fit'},\n",
       "     'medium': {'w': 1200, 'h': 675, 'resize': 'fit'},\n",
       "     'large': {'w': 1600, 'h': 900, 'resize': 'fit'}}}]},\n",
       " 'extended_entities': {'media': [{'id': 1599917715950817281,\n",
       "    'id_str': '1599917715950817281',\n",
       "    'indices': [278, 301],\n",
       "    'media_url': 'http://pbs.twimg.com/media/FjQMr5kaUAE3nME.jpg',\n",
       "    'media_url_https': 'https://pbs.twimg.com/media/FjQMr5kaUAE3nME.jpg',\n",
       "    'url': 'https://t.co/w081Rj4NDz',\n",
       "    'display_url': 'pic.twitter.com/w081Rj4NDz',\n",
       "    'expanded_url': 'https://twitter.com/WAStateGov/status/1599917840953651200/photo/1',\n",
       "    'type': 'photo',\n",
       "    'sizes': {'thumb': {'w': 150, 'h': 150, 'resize': 'crop'},\n",
       "     'small': {'w': 680, 'h': 383, 'resize': 'fit'},\n",
       "     'medium': {'w': 1200, 'h': 675, 'resize': 'fit'},\n",
       "     'large': {'w': 1600, 'h': 900, 'resize': 'fit'}}}]},\n",
       " 'source': '<a href=\"https://mobile.twitter.com\" rel=\"nofollow\">Twitter Web App</a>',\n",
       " 'in_reply_to_status_id': None,\n",
       " 'in_reply_to_status_id_str': None,\n",
       " 'in_reply_to_user_id': None,\n",
       " 'in_reply_to_user_id_str': None,\n",
       " 'in_reply_to_screen_name': None,\n",
       " 'user': {'id': 1009489969,\n",
       "  'id_str': '1009489969',\n",
       "  'name': 'Washington State Governor’s Office',\n",
       "  'screen_name': 'WAStateGov',\n",
       "  'location': 'Olympia, WA',\n",
       "  'description': 'Official tweets from the communications office of @GovInslee. RTs and follows ≠ endorsement.',\n",
       "  'url': 'https://t.co/fYhp5wNGHZ',\n",
       "  'entities': {'url': {'urls': [{'url': 'https://t.co/fYhp5wNGHZ',\n",
       "      'expanded_url': 'http://governor.wa.gov',\n",
       "      'display_url': 'governor.wa.gov',\n",
       "      'indices': [0, 23]}]},\n",
       "   'description': {'urls': []}},\n",
       "  'protected': False,\n",
       "  'followers_count': 20818,\n",
       "  'friends_count': 301,\n",
       "  'listed_count': 426,\n",
       "  'created_at': 'Thu Dec 13 18:51:30 +0000 2012',\n",
       "  'favourites_count': 702,\n",
       "  'utc_offset': None,\n",
       "  'time_zone': None,\n",
       "  'geo_enabled': True,\n",
       "  'verified': True,\n",
       "  'statuses_count': 2083,\n",
       "  'lang': None,\n",
       "  'contributors_enabled': False,\n",
       "  'is_translator': False,\n",
       "  'is_translation_enabled': False,\n",
       "  'profile_background_color': '86A150',\n",
       "  'profile_background_image_url': 'http://abs.twimg.com/images/themes/theme1/bg.png',\n",
       "  'profile_background_image_url_https': 'https://abs.twimg.com/images/themes/theme1/bg.png',\n",
       "  'profile_background_tile': True,\n",
       "  'profile_image_url': 'http://pbs.twimg.com/profile_images/807662913649422336/bIBS48Bq_normal.jpg',\n",
       "  'profile_image_url_https': 'https://pbs.twimg.com/profile_images/807662913649422336/bIBS48Bq_normal.jpg',\n",
       "  'profile_banner_url': 'https://pbs.twimg.com/profile_banners/1009489969/1411513785',\n",
       "  'profile_link_color': '1A4A7A',\n",
       "  'profile_sidebar_border_color': 'FFFFFF',\n",
       "  'profile_sidebar_fill_color': 'DDEEF6',\n",
       "  'profile_text_color': '333333',\n",
       "  'profile_use_background_image': True,\n",
       "  'has_extended_profile': False,\n",
       "  'default_profile': False,\n",
       "  'default_profile_image': False,\n",
       "  'following': False,\n",
       "  'follow_request_sent': False,\n",
       "  'notifications': False,\n",
       "  'translator_type': 'none',\n",
       "  'withheld_in_countries': []},\n",
       " 'geo': None,\n",
       " 'coordinates': None,\n",
       " 'place': None,\n",
       " 'contributors': None,\n",
       " 'is_quote_status': False,\n",
       " 'retweet_count': 0,\n",
       " 'favorite_count': 2,\n",
       " 'favorited': False,\n",
       " 'retweeted': False,\n",
       " 'possibly_sensitive': False,\n",
       " 'lang': 'en'}"
      ]
     },
     "execution_count": 71,
     "metadata": {},
     "output_type": "execute_result"
    }
   ],
   "source": [
    "gottenTweets[0]"
   ]
  },
  {
   "cell_type": "markdown",
   "metadata": {},
   "source": [
    "It will take some time to become familiar with a [tweet object structure](https://developer.twitter.com/en/docs/twitter-api/data-dictionary/object-model/tweet). Let's find out how each tweet is currently stored:"
   ]
  },
  {
   "cell_type": "code",
   "execution_count": 72,
   "metadata": {},
   "outputs": [
    {
     "data": {
      "text/plain": [
       "dict"
      ]
     },
     "execution_count": 72,
     "metadata": {},
     "output_type": "execute_result"
    }
   ],
   "source": [
    "type(gottenTweets[0])"
   ]
  },
  {
   "cell_type": "markdown",
   "metadata": {},
   "source": [
    "Now you know that each tweet is stored as a **dictionary**. \n",
    "Dictionaries or **dicts** are very flexible and important structures in Python. Let me show you a simple one: "
   ]
  },
  {
   "cell_type": "code",
   "execution_count": 73,
   "metadata": {},
   "outputs": [
    {
     "data": {
      "text/plain": [
       "{'name': 'Peter', 'speaks': ['French', 'Spanish'], 'country': 'Morocco'}"
      ]
     },
     "execution_count": 73,
     "metadata": {},
     "output_type": "execute_result"
    }
   ],
   "source": [
    "aDictExample={\"name\":\"Peter\",\n",
    "             \"speaks\":['French', 'Spanish'],\n",
    "             'country':'Morocco'}\n",
    "\n",
    "# then\n",
    "aDictExample"
   ]
  },
  {
   "cell_type": "markdown",
   "metadata": {},
   "source": [
    "Dicts are a basic structure in Python, and one that makes Python very appealing. Each element in Python can be accessed via **keys**. Our _aDictExample_ has these keys:"
   ]
  },
  {
   "cell_type": "code",
   "execution_count": 74,
   "metadata": {},
   "outputs": [
    {
     "data": {
      "text/plain": [
       "dict_keys(['name', 'speaks', 'country'])"
      ]
     },
     "execution_count": 74,
     "metadata": {},
     "output_type": "execute_result"
    }
   ],
   "source": [
    "aDictExample.keys()"
   ]
  },
  {
   "cell_type": "markdown",
   "metadata": {},
   "source": [
    "So, you access the info like this:"
   ]
  },
  {
   "cell_type": "code",
   "execution_count": 75,
   "metadata": {},
   "outputs": [
    {
     "data": {
      "text/plain": [
       "['French', 'Spanish']"
      ]
     },
     "execution_count": 75,
     "metadata": {},
     "output_type": "execute_result"
    }
   ],
   "source": [
    "aDictExample['speaks']"
   ]
  },
  {
   "cell_type": "markdown",
   "metadata": {},
   "source": [
    "Then, let's see our **gottenTweets** keys:"
   ]
  },
  {
   "cell_type": "code",
   "execution_count": 76,
   "metadata": {},
   "outputs": [
    {
     "data": {
      "text/plain": [
       "dict_keys(['created_at', 'id', 'id_str', 'full_text', 'truncated', 'display_text_range', 'entities', 'extended_entities', 'source', 'in_reply_to_status_id', 'in_reply_to_status_id_str', 'in_reply_to_user_id', 'in_reply_to_user_id_str', 'in_reply_to_screen_name', 'user', 'geo', 'coordinates', 'place', 'contributors', 'is_quote_status', 'retweet_count', 'favorite_count', 'favorited', 'retweeted', 'possibly_sensitive', 'lang'])"
      ]
     },
     "execution_count": 76,
     "metadata": {},
     "output_type": "execute_result"
    }
   ],
   "source": [
    "gottenTweets[0].keys()"
   ]
  },
  {
   "cell_type": "code",
   "execution_count": 77,
   "metadata": {},
   "outputs": [
    {
     "data": {
      "text/plain": [
       "'Tue Dec 06 00:05:12 +0000 2022'"
      ]
     },
     "execution_count": 77,
     "metadata": {},
     "output_type": "execute_result"
    }
   ],
   "source": [
    "# then:\n",
    "gottenTweets[0]['created_at']"
   ]
  },
  {
   "cell_type": "code",
   "execution_count": 78,
   "metadata": {},
   "outputs": [
    {
     "data": {
      "text/plain": [
       "'Mon Dec 05 23:59:49 +0000 2022'"
      ]
     },
     "execution_count": 78,
     "metadata": {},
     "output_type": "execute_result"
    }
   ],
   "source": [
    "gottenTweets[1]['created_at']"
   ]
  },
  {
   "cell_type": "markdown",
   "metadata": {},
   "source": [
    "We could prepare a data frame using the current tweets, first let's prepare a list of each of fields we want:"
   ]
  },
  {
   "cell_type": "code",
   "execution_count": 79,
   "metadata": {},
   "outputs": [],
   "source": [
    "# list comprehesions\n",
    "dates=[t['created_at'] for t in gottenTweets]\n",
    "ids=[t['id'] for t in gottenTweets]\n",
    "rts=[t['retweet_count'] for t in gottenTweets]\n",
    "likes=[t['favorite_count'] for t in gottenTweets]\n",
    "text=[t['full_text'] for t in gottenTweets]\n",
    "rtw=[t['full_text'].startswith('RT') for t in gottenTweets]"
   ]
  },
  {
   "cell_type": "markdown",
   "metadata": {},
   "source": [
    "Each of the objects created is a list (dates, ids,rts,likes and text). Let me show you one:"
   ]
  },
  {
   "cell_type": "code",
   "execution_count": 80,
   "metadata": {},
   "outputs": [
    {
     "data": {
      "text/plain": [
       "[False,\n",
       " True,\n",
       " True,\n",
       " True,\n",
       " True,\n",
       " False,\n",
       " False,\n",
       " False,\n",
       " True,\n",
       " True,\n",
       " True,\n",
       " False,\n",
       " True,\n",
       " False,\n",
       " True,\n",
       " False,\n",
       " False,\n",
       " False,\n",
       " True,\n",
       " False,\n",
       " False,\n",
       " False,\n",
       " True,\n",
       " True,\n",
       " False,\n",
       " False,\n",
       " True,\n",
       " False,\n",
       " True,\n",
       " False,\n",
       " True,\n",
       " True,\n",
       " False,\n",
       " False,\n",
       " False,\n",
       " True,\n",
       " True,\n",
       " False,\n",
       " True,\n",
       " False,\n",
       " False,\n",
       " False,\n",
       " True,\n",
       " True,\n",
       " False,\n",
       " False,\n",
       " False,\n",
       " False,\n",
       " False,\n",
       " False,\n",
       " False,\n",
       " False,\n",
       " False,\n",
       " False,\n",
       " True,\n",
       " False,\n",
       " False,\n",
       " False,\n",
       " False,\n",
       " False,\n",
       " True,\n",
       " False,\n",
       " True,\n",
       " True,\n",
       " True,\n",
       " True,\n",
       " True,\n",
       " True,\n",
       " True,\n",
       " False,\n",
       " True,\n",
       " True,\n",
       " True,\n",
       " True,\n",
       " True,\n",
       " True,\n",
       " True,\n",
       " True,\n",
       " False,\n",
       " True,\n",
       " True,\n",
       " True,\n",
       " True,\n",
       " False,\n",
       " True,\n",
       " False,\n",
       " True,\n",
       " True,\n",
       " True,\n",
       " True,\n",
       " True,\n",
       " True,\n",
       " True,\n",
       " True,\n",
       " True,\n",
       " True,\n",
       " True,\n",
       " True,\n",
       " True,\n",
       " False]"
      ]
     },
     "execution_count": 80,
     "metadata": {},
     "output_type": "execute_result"
    }
   ],
   "source": [
    "rtw"
   ]
  },
  {
   "cell_type": "markdown",
   "metadata": {},
   "source": [
    "Let me create a data frame with those lists:"
   ]
  },
  {
   "cell_type": "code",
   "execution_count": 81,
   "metadata": {},
   "outputs": [],
   "source": [
    "tweetsAsDF=pd.DataFrame({'dates':dates,'ids':ids,'rts':rts,'likes':likes,'text':text,'rtw':rtw})"
   ]
  },
  {
   "cell_type": "code",
   "execution_count": 64,
   "metadata": {},
   "outputs": [
    {
     "data": {
      "text/html": [
       "<div>\n",
       "<style scoped>\n",
       "    .dataframe tbody tr th:only-of-type {\n",
       "        vertical-align: middle;\n",
       "    }\n",
       "\n",
       "    .dataframe tbody tr th {\n",
       "        vertical-align: top;\n",
       "    }\n",
       "\n",
       "    .dataframe thead th {\n",
       "        text-align: right;\n",
       "    }\n",
       "</style>\n",
       "<table border=\"1\" class=\"dataframe\">\n",
       "  <thead>\n",
       "    <tr style=\"text-align: right;\">\n",
       "      <th></th>\n",
       "      <th>dates</th>\n",
       "      <th>ids</th>\n",
       "      <th>rts</th>\n",
       "      <th>likes</th>\n",
       "      <th>text</th>\n",
       "      <th>rtw</th>\n",
       "    </tr>\n",
       "  </thead>\n",
       "  <tbody>\n",
       "    <tr>\n",
       "      <th>0</th>\n",
       "      <td>Tue Dec 06 00:05:12 +0000 2022</td>\n",
       "      <td>1599917840953651200</td>\n",
       "      <td>0</td>\n",
       "      <td>2</td>\n",
       "      <td>#TheDailyGov: ‘This is what we need’ Inslee sa...</td>\n",
       "      <td>False</td>\n",
       "    </tr>\n",
       "    <tr>\n",
       "      <th>1</th>\n",
       "      <td>Mon Dec 05 23:59:49 +0000 2022</td>\n",
       "      <td>1599916485081968640</td>\n",
       "      <td>9</td>\n",
       "      <td>0</td>\n",
       "      <td>RT @WA_DOL: BREAKING: Stricter air travel ID s...</td>\n",
       "      <td>True</td>\n",
       "    </tr>\n",
       "    <tr>\n",
       "      <th>2</th>\n",
       "      <td>Mon Dec 05 20:11:10 +0000 2022</td>\n",
       "      <td>1599858941844127744</td>\n",
       "      <td>2</td>\n",
       "      <td>0</td>\n",
       "      <td>RT @TVWnews: Right now, TVW is livestreaming –...</td>\n",
       "      <td>True</td>\n",
       "    </tr>\n",
       "    <tr>\n",
       "      <th>3</th>\n",
       "      <td>Sat Dec 03 20:30:49 +0000 2022</td>\n",
       "      <td>1599139111222509568</td>\n",
       "      <td>11</td>\n",
       "      <td>0</td>\n",
       "      <td>RT @WAStatePks: On the first day of '23, my st...</td>\n",
       "      <td>True</td>\n",
       "    </tr>\n",
       "    <tr>\n",
       "      <th>4</th>\n",
       "      <td>Sat Dec 03 00:34:47 +0000 2022</td>\n",
       "      <td>1598838121839603712</td>\n",
       "      <td>2</td>\n",
       "      <td>0</td>\n",
       "      <td>RT @kxly4news: The Washington State Department...</td>\n",
       "      <td>True</td>\n",
       "    </tr>\n",
       "    <tr>\n",
       "      <th>...</th>\n",
       "      <td>...</td>\n",
       "      <td>...</td>\n",
       "      <td>...</td>\n",
       "      <td>...</td>\n",
       "      <td>...</td>\n",
       "      <td>...</td>\n",
       "    </tr>\n",
       "    <tr>\n",
       "      <th>95</th>\n",
       "      <td>Sun Mar 15 20:16:28 +0000 2020</td>\n",
       "      <td>1239284348269899777</td>\n",
       "      <td>3664</td>\n",
       "      <td>0</td>\n",
       "      <td>RT @GovInslee: While fighting COVID-19, we mus...</td>\n",
       "      <td>True</td>\n",
       "    </tr>\n",
       "    <tr>\n",
       "      <th>96</th>\n",
       "      <td>Thu Mar 12 02:00:27 +0000 2020</td>\n",
       "      <td>1237921364591308800</td>\n",
       "      <td>37</td>\n",
       "      <td>0</td>\n",
       "      <td>RT @GovInslee: Para proteger a los residentes ...</td>\n",
       "      <td>True</td>\n",
       "    </tr>\n",
       "    <tr>\n",
       "      <th>97</th>\n",
       "      <td>Wed Mar 11 22:56:17 +0000 2020</td>\n",
       "      <td>1237875018727428096</td>\n",
       "      <td>110</td>\n",
       "      <td>0</td>\n",
       "      <td>RT @waEMD: As of today, the state will prohibi...</td>\n",
       "      <td>True</td>\n",
       "    </tr>\n",
       "    <tr>\n",
       "      <th>98</th>\n",
       "      <td>Wed Mar 11 22:56:05 +0000 2020</td>\n",
       "      <td>1237874969138221056</td>\n",
       "      <td>370</td>\n",
       "      <td>0</td>\n",
       "      <td>RT @GovInslee: Washingtonians without health i...</td>\n",
       "      <td>True</td>\n",
       "    </tr>\n",
       "    <tr>\n",
       "      <th>99</th>\n",
       "      <td>Tue Mar 10 18:35:27 +0000 2020</td>\n",
       "      <td>1237446989278629890</td>\n",
       "      <td>4</td>\n",
       "      <td>8</td>\n",
       "      <td>Today, @GovInslee announced new measures to mi...</td>\n",
       "      <td>False</td>\n",
       "    </tr>\n",
       "  </tbody>\n",
       "</table>\n",
       "<p>100 rows × 6 columns</p>\n",
       "</div>"
      ],
      "text/plain": [
       "                             dates                  ids   rts  likes  \\\n",
       "0   Tue Dec 06 00:05:12 +0000 2022  1599917840953651200     0      2   \n",
       "1   Mon Dec 05 23:59:49 +0000 2022  1599916485081968640     9      0   \n",
       "2   Mon Dec 05 20:11:10 +0000 2022  1599858941844127744     2      0   \n",
       "3   Sat Dec 03 20:30:49 +0000 2022  1599139111222509568    11      0   \n",
       "4   Sat Dec 03 00:34:47 +0000 2022  1598838121839603712     2      0   \n",
       "..                             ...                  ...   ...    ...   \n",
       "95  Sun Mar 15 20:16:28 +0000 2020  1239284348269899777  3664      0   \n",
       "96  Thu Mar 12 02:00:27 +0000 2020  1237921364591308800    37      0   \n",
       "97  Wed Mar 11 22:56:17 +0000 2020  1237875018727428096   110      0   \n",
       "98  Wed Mar 11 22:56:05 +0000 2020  1237874969138221056   370      0   \n",
       "99  Tue Mar 10 18:35:27 +0000 2020  1237446989278629890     4      8   \n",
       "\n",
       "                                                 text    rtw  \n",
       "0   #TheDailyGov: ‘This is what we need’ Inslee sa...  False  \n",
       "1   RT @WA_DOL: BREAKING: Stricter air travel ID s...   True  \n",
       "2   RT @TVWnews: Right now, TVW is livestreaming –...   True  \n",
       "3   RT @WAStatePks: On the first day of '23, my st...   True  \n",
       "4   RT @kxly4news: The Washington State Department...   True  \n",
       "..                                                ...    ...  \n",
       "95  RT @GovInslee: While fighting COVID-19, we mus...   True  \n",
       "96  RT @GovInslee: Para proteger a los residentes ...   True  \n",
       "97  RT @waEMD: As of today, the state will prohibi...   True  \n",
       "98  RT @GovInslee: Washingtonians without health i...   True  \n",
       "99  Today, @GovInslee announced new measures to mi...  False  \n",
       "\n",
       "[100 rows x 6 columns]"
      ]
     },
     "execution_count": 64,
     "metadata": {},
     "output_type": "execute_result"
    }
   ],
   "source": [
    "tweetsAsDF"
   ]
  },
  {
   "cell_type": "markdown",
   "metadata": {},
   "source": [
    "You can know how many are retweets or not:"
   ]
  },
  {
   "cell_type": "code",
   "execution_count": 66,
   "metadata": {},
   "outputs": [
    {
     "data": {
      "text/plain": [
       "(44, 6)"
      ]
     },
     "execution_count": 66,
     "metadata": {},
     "output_type": "execute_result"
    }
   ],
   "source": [
    "tweetsAsDF[tweetsAsDF['rtw']==False].shape"
   ]
  },
  {
   "cell_type": "code",
   "execution_count": 68,
   "metadata": {},
   "outputs": [
    {
     "data": {
      "text/plain": [
       "(56, 6)"
      ]
     },
     "execution_count": 68,
     "metadata": {},
     "output_type": "execute_result"
    }
   ],
   "source": [
    "tweetsAsDF[tweetsAsDF['rtw']==True].shape"
   ]
  },
  {
   "cell_type": "markdown",
   "metadata": {},
   "source": [
    "[home](#home)"
   ]
  }
 ],
 "metadata": {
  "anaconda-cloud": {
   "attach-environment": true,
   "summary": "test"
  },
  "hide_input": false,
  "kernelspec": {
   "display_name": "Python 3 (ipykernel)",
   "language": "python",
   "name": "python3"
  },
  "language_info": {
   "codemirror_mode": {
    "name": "ipython",
    "version": 3
   },
   "file_extension": ".py",
   "mimetype": "text/x-python",
   "name": "python",
   "nbconvert_exporter": "python",
   "pygments_lexer": "ipython3",
   "version": "3.7.12"
  }
 },
 "nbformat": 4,
 "nbformat_minor": 1
}
