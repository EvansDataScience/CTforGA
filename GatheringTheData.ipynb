{
 "cells": [
  {
   "cell_type": "markdown",
   "metadata": {},
   "source": [
    "<center><img src=\"http://i.imgur.com/sSaOozN.png\" width=\"500\"></center>"
   ]
  },
  {
   "cell_type": "markdown",
   "metadata": {},
   "source": [
    "## Course: Computational Thinking for Governance Analytics\n",
    "\n",
    "### Prof. José Manuel Magallanes, PhD \n",
    "* Visiting Professor of Computational Policy at Evans School of Public Policy and Governance, and eScience Institute Senior Data Science Fellow, University of Washington.\n",
    "* Professor of Government and Political Methodology, Pontificia Universidad Católica del Perú. \n",
    "\n",
    "_____\n",
    "<a id='home'></a>\n",
    "\n",
    "# Data Preprocessing in Python: Data gathering"
   ]
  },
  {
   "cell_type": "markdown",
   "metadata": {},
   "source": [
    "0. [The GitHub Repo](#part0) \n",
    "1. [Uploading files](#part1a)\n",
    "2. [APIs](#part2) \n",
    "3. [Scraping](#part3) \n",
    "4. [Social media](#part4) "
   ]
  },
  {
   "cell_type": "markdown",
   "metadata": {},
   "source": [
    "____\n",
    "<a id='part0'></a>\n",
    "\n",
    "## 0. The GitHub Repo\n",
    "\n",
    "One the first steps you should take when preparing an analytics project is to know where to read your files from. One usually gets a file from an email, or finds it in website, and just download it to the local computer. \n",
    "However, different from most software, like SPSS, EXCEL and STATA, **Python** or **R** need to know the **path** to the file precisely. Sometimes you are not aware of the folders' **tree** in your computer. For instance, once I have opened this Jupyter Notebook, I can find its path like this:"
   ]
  },
  {
   "cell_type": "code",
   "execution_count": null,
   "metadata": {},
   "outputs": [],
   "source": [
    "import os\n",
    "os.getcwd() # this is a comment, Python will not pay attention to this."
   ]
  },
  {
   "cell_type": "markdown",
   "metadata": {},
   "source": [
    "You may not see the same path as the one above. It depends in at least a couple of things, the location of the folder you created in your computer, and the **operating system** you are using (i.e. Windows, OSX, Linux).\n",
    "\n",
    "There is nothing wrong in using the files in a folder in your computer, but I recommend creating a *repo*sitory in Github for your _CTGA_ course, and synchronize that repo with your computer folder. Let's follow these steps:\n",
    "\n",
    "1. Go to [github.com](https://github.com/), and sign up.\n",
    "2. Install the Githib desktop app in your computer. It is available [here](https://desktop.github.com/). Sign in to the app.\n",
    "3. Once you are signed in the Github web, create a repository. Choose a name. **DO NOT forget** to select the option to add a READ ME file, choose a **LICENSE** too (I recommend MIT).\n",
    "4. **Clone** the repository created into your computer. You can select where to created.\n",
    "5. Go to this [link](https://drive.google.com/drive/folders/1nfr3eHiTQVg7rcgVvXaxAbjdo0dCLqjn?usp=sharing) and download all the files you see there in the folder with the Github repository you just created.\n",
    "6. **Push** the files in the local folder to your Github repo ('the cloud')."
   ]
  },
  {
   "cell_type": "markdown",
   "metadata": {},
   "source": [
    "Once your local folder and the cloud are synchronized, you may go to the cloud repo and find the link to the data. This requires that you click on the name of the file in the repo, and get the link in the **download** or **raw** option; **DO NOT** use the link you see on the URL.\n",
    "\n",
    "[home](#home)"
   ]
  },
  {
   "cell_type": "markdown",
   "metadata": {},
   "source": [
    "____\n",
    "<a id='part1a'></a>\n",
    "\n",
    "## 1. Uploading 'proprietary software' files"
   ]
  },
  {
   "cell_type": "markdown",
   "metadata": {},
   "source": [
    "Several times, you may find that you are given a file that was previously prepared with proprietary software. The most common in the policy field are:\n",
    "\n",
    "* SPSS (file extension: **sav**).\n",
    "* STATA (file extension: **dta**).\n",
    "* EXCEL (file extension: **xlsx** or **xls**).\n",
    "\n",
    "Getting these files up and running is the easiest, as they are often well organized and do not bring much pre processing challenges. They generally have the data organized in tables, where rows are the cases and columns are the variables. This structure is known by the data science community as the **data frame**. This data structure is not native to Python (it is in R), so when using Python we will need to use **Pandas**.\n",
    "\n",
    "Let me use the links I have from my own repo, but this is the perfect time for you to check if Python can access your files from the cloud. Let's save the file locations first:"
   ]
  },
  {
   "cell_type": "code",
   "execution_count": 6,
   "metadata": {},
   "outputs": [],
   "source": [
    "cloudLocation_AllMyFiles='https://github.com/EvansDataScience/data/raw/master/'\n",
    "\n",
    "linkToSTATA_File=cloudLocation_AllMyFiles+'hsb_ok.dta' # '+' concatenates text.\n",
    "linkToSPSS_File=cloudLocation_AllMyFiles+'hsb_ok.sav'\n",
    "linkToEXCEL_File=cloudLocation_AllMyFiles+'hsb_ok.xlsx'"
   ]
  },
  {
   "cell_type": "markdown",
   "metadata": {},
   "source": [
    "Now, make sure you have **Pandas** installed:"
   ]
  },
  {
   "cell_type": "code",
   "execution_count": 2,
   "metadata": {},
   "outputs": [
    {
     "name": "stdout",
     "output_type": "stream",
     "text": [
      "Name: pandas\r\n",
      "Version: 1.3.5\r\n",
      "Summary: Powerful data structures for data analysis, time series, and statistics\r\n",
      "Home-page: https://pandas.pydata.org\r\n",
      "Author: The Pandas Development Team\r\n",
      "Author-email: pandas-dev@python.org\r\n",
      "License: BSD-3-Clause\r\n",
      "Location: /Users/JoseManuel/anaconda3/envs/Evans_GovAnalytics/lib/python3.7/site-packages\r\n",
      "Requires: numpy, pytz, python-dateutil\r\n",
      "Required-by: statsmodels, plotnine, mizani\r\n"
     ]
    }
   ],
   "source": [
    "!pip show pandas"
   ]
  },
  {
   "cell_type": "markdown",
   "metadata": {},
   "source": [
    "If you do **not have** Pandas, you can also install it using the Anaconda Navigator or via the Terminal. This code can install it from Jupyter notebook:"
   ]
  },
  {
   "cell_type": "code",
   "execution_count": 1,
   "metadata": {},
   "outputs": [
    {
     "name": "stdout",
     "output_type": "stream",
     "text": [
      "Requirement already satisfied: pandas in /Users/JoseManuel/anaconda3/envs/Evans_GovAnalytics/lib/python3.7/site-packages (1.3.5)\n",
      "Requirement already satisfied: python-dateutil>=2.7.3 in /Users/JoseManuel/anaconda3/envs/Evans_GovAnalytics/lib/python3.7/site-packages (from pandas) (2.8.1)\n",
      "Requirement already satisfied: pytz>=2017.3 in /Users/JoseManuel/anaconda3/envs/Evans_GovAnalytics/lib/python3.7/site-packages (from pandas) (2021.1)\n",
      "Requirement already satisfied: numpy>=1.17.3 in /Users/JoseManuel/anaconda3/envs/Evans_GovAnalytics/lib/python3.7/site-packages (from pandas) (1.20.0)\n",
      "Requirement already satisfied: six>=1.5 in /Users/JoseManuel/anaconda3/envs/Evans_GovAnalytics/lib/python3.7/site-packages (from python-dateutil>=2.7.3->pandas) (1.15.0)\n"
     ]
    }
   ],
   "source": [
    "#!pip install pandas   "
   ]
  },
  {
   "cell_type": "markdown",
   "metadata": {},
   "source": [
    "Since I have Pandas, I wrote a **_#_** before the code above. Please so the same every time you have code you do not need to execute more than once.\n",
    " \n",
    "Notice that the **show** command also informed the version I have. If you have an older version of Pandas than the one I have, you can update yours like this:"
   ]
  },
  {
   "cell_type": "code",
   "execution_count": null,
   "metadata": {},
   "outputs": [],
   "source": [
    "#!pip install pandas -U"
   ]
  },
  {
   "cell_type": "markdown",
   "metadata": {},
   "source": [
    "____\n",
    "\n",
    "### 1.1 Reading STATA and EXCEL:\n",
    "\n",
    "Most files are easy to read in. In this case, STATA will give no extra work, but reading in Excel file requires the libraris **xlrd** (for xls) or the library **openpyxl** (for xlsx), just check if you have them; otherwise, install them using **!pip install**. "
   ]
  },
  {
   "cell_type": "code",
   "execution_count": 4,
   "metadata": {},
   "outputs": [
    {
     "name": "stdout",
     "output_type": "stream",
     "text": [
      "Name: openpyxl\n",
      "Version: 3.0.5\n",
      "Summary: A Python library to read/write Excel 2010 xlsx/xlsm files\n",
      "Home-page: https://openpyxl.readthedocs.io\n",
      "Author: See AUTHORS\n",
      "Author-email: charlie.clark@clark-consulting.eu\n",
      "License: MIT\n",
      "Location: /Users/JoseManuel/anaconda3/envs/Evans_GovAnalytics/lib/python3.7/site-packages\n",
      "Requires: jdcal, et-xmlfile\n",
      "Required-by: \n"
     ]
    }
   ],
   "source": [
    "!pip show openpyxl"
   ]
  },
  {
   "cell_type": "code",
   "execution_count": 7,
   "metadata": {},
   "outputs": [],
   "source": [
    "import pandas as pd # activating pandas\n",
    "\n",
    "dfStata=pd.read_stata(linkToSTATA_File)\n",
    "dfExcel=pd.read_excel(linkToEXCEL_File,usecols='B:P') #this omits first column (row number from Excel).\n",
    "\n",
    "#you can also use:\n",
    "\n",
    "# import pandas\n",
    "# dfStata=pandas.read_stata(linkToSTATA_File)\n",
    "# dfExcel=pandas.read_excel(linkToEXCEL_File)\n"
   ]
  },
  {
   "cell_type": "markdown",
   "metadata": {},
   "source": [
    "Above, you are telling Python to use a function from Pandas. Generally, this input functions have a reciprocal output function (for example: write_stata). "
   ]
  },
  {
   "cell_type": "markdown",
   "metadata": {},
   "source": [
    "The objects **dfStata** and **dfExcel** are data frames:"
   ]
  },
  {
   "cell_type": "code",
   "execution_count": null,
   "metadata": {},
   "outputs": [],
   "source": [
    "type(dfStata) , type(dfExcel)"
   ]
  },
  {
   "cell_type": "markdown",
   "metadata": {},
   "source": [
    "They should have the same information:"
   ]
  },
  {
   "cell_type": "code",
   "execution_count": null,
   "metadata": {},
   "outputs": [],
   "source": [
    "dfStata.shape, dfExcel.shape"
   ]
  },
  {
   "cell_type": "markdown",
   "metadata": {},
   "source": [
    "You can check some rows from both:"
   ]
  },
  {
   "cell_type": "code",
   "execution_count": null,
   "metadata": {},
   "outputs": [],
   "source": [
    "dfStata.head()"
   ]
  },
  {
   "cell_type": "code",
   "execution_count": null,
   "metadata": {
    "scrolled": true
   },
   "outputs": [],
   "source": [
    "dfExcel.tail()\n",
    "#?pd.read_excel"
   ]
  },
  {
   "cell_type": "markdown",
   "metadata": {},
   "source": [
    "Remember that an Excel file can have **several sheets**, so you need to call each by its location (number) or name (label):"
   ]
  },
  {
   "cell_type": "code",
   "execution_count": null,
   "metadata": {},
   "outputs": [],
   "source": [
    "fileXLSXs=cloudLocation_AllMyFiles+'WA_COVID19_Cases_Hospitalizations_Deaths.xlsx'\n",
    "\n",
    "#opening each in a different data frame.\n",
    "dataExcelCovidCases=pd.read_excel(fileXLSXs,sheet_name='Cases')\n",
    "dataExcelCovidDeaths=pd.read_excel(fileXLSXs,sheet_name='Deaths') \n",
    "dataExcelCovidHospitalizations=pd.read_excel(fileXLSXs,sheet_name='Hospitalizations') \n",
    "dataExcelCovidDataDictionary=pd.read_excel(fileXLSXs,sheet_name='Data Dictionary') "
   ]
  },
  {
   "cell_type": "markdown",
   "metadata": {},
   "source": [
    "Let's check one of the dataframes:"
   ]
  },
  {
   "cell_type": "code",
   "execution_count": null,
   "metadata": {},
   "outputs": [],
   "source": [
    "dataExcelCovidDataDictionary"
   ]
  },
  {
   "cell_type": "markdown",
   "metadata": {},
   "source": [
    "If you need some more space to see cell contents:"
   ]
  },
  {
   "cell_type": "code",
   "execution_count": null,
   "metadata": {
    "scrolled": false
   },
   "outputs": [],
   "source": [
    "# if you need more space:\n",
    "pd.set_option('max_colwidth', 800)\n",
    "dataExcelCovidDataDictionary"
   ]
  },
  {
   "cell_type": "markdown",
   "metadata": {},
   "source": [
    "[home](#home)\n",
    "\n",
    "____\n",
    "\n",
    "### 1.2 Reading an SPSS file"
   ]
  },
  {
   "cell_type": "markdown",
   "metadata": {},
   "source": [
    "Pandas has a **read_spss** function. But, before using it, verify you have the library **[pyreadstat](https://github.com/Roche/pyreadstat)** installed."
   ]
  },
  {
   "cell_type": "code",
   "execution_count": null,
   "metadata": {},
   "outputs": [],
   "source": [
    "!pip show pyreadstat "
   ]
  },
  {
   "cell_type": "markdown",
   "metadata": {},
   "source": [
    "Notice that **pyreadstat** cannot read from an url, so we need some some extra coding:"
   ]
  },
  {
   "cell_type": "code",
   "execution_count": null,
   "metadata": {},
   "outputs": [],
   "source": [
    "# to open link:\n",
    "from urllib.request import urlopen\n",
    "\n",
    "response = urlopen(linkToSPSS_File) \n",
    "\n",
    "# reading contents\n",
    "content = response.read() \n",
    "\n",
    "# opening a file new file locally\n",
    "fhandle = open('savingLocally.sav', 'wb') #wb?\n",
    "\n",
    "# saving contents in that file\n",
    "fhandle.write(content) \n",
    "\n",
    "# closing the file\n",
    "fhandle.close() "
   ]
  },
  {
   "cell_type": "markdown",
   "metadata": {},
   "source": [
    "If you see the folder where you are writing this code, you should find that the file from the url is now in your computer. Now just read it:"
   ]
  },
  {
   "cell_type": "code",
   "execution_count": null,
   "metadata": {},
   "outputs": [],
   "source": [
    "dataSPSS= pd.read_spss(\"savingLocally.sav\")\n",
    "\n",
    "# here it is\n",
    "dataSPSS"
   ]
  },
  {
   "cell_type": "markdown",
   "metadata": {},
   "source": [
    "[home](#home)\n",
    "\n",
    "____\n",
    "\n",
    "<a id='part2'></a>\n",
    "\n",
    "## 2. Collecting data from APIs\n",
    "\n",
    "Open data portals from the government and other organizations have APIs, a service that allows you to collect their data. Let's take a look a Seattle data about [Seattle Real Time Fire 911 Calls](https://dev.socrata.com/foundry/data.seattle.gov/kzjm-xkqj):"
   ]
  },
  {
   "cell_type": "code",
   "execution_count": null,
   "metadata": {},
   "outputs": [],
   "source": [
    "from IPython.display import IFrame  \n",
    "fromAPI=\"https://dev.socrata.com/foundry/data.seattle.gov/kzjm-xkqj\" \n",
    "IFrame(fromAPI, width=900, height=500)"
   ]
  },
  {
   "cell_type": "markdown",
   "metadata": {},
   "source": [
    "That page tells you how to get the data into pandas. But first, you need to install **sodapy**. Then you can continue:"
   ]
  },
  {
   "cell_type": "code",
   "execution_count": null,
   "metadata": {},
   "outputs": [],
   "source": [
    "#!pip install sodapy"
   ]
  },
  {
   "cell_type": "markdown",
   "metadata": {},
   "source": [
    "Let's follow some steps, according to the API:"
   ]
  },
  {
   "cell_type": "code",
   "execution_count": null,
   "metadata": {},
   "outputs": [],
   "source": [
    "from sodapy import Socrata\n",
    "\n",
    "# Unauthenticated client (using 'None')\n",
    "\n",
    "client = Socrata(\"data.seattle.gov\", None)\n",
    "\n",
    "# If you have credentials:\n",
    "# client = Socrata(data.seattle.gov,\n",
    "#                  MyAppToken,\n",
    "#                  username=\"user@example.com\",\n",
    "#                  password=\"AFakePassword\")\n",
    "\n",
    "# First 500 results, returned as JSON from API / converted to Python list of\n",
    "# dictionaries by sodapy.\n",
    "results = client.get(\"kzjm-xkqj\", limit=2000)\n",
    "\n",
    "# Convert to pandas DataFrame\n",
    "results_df = pd.DataFrame.from_records(results)"
   ]
  },
  {
   "cell_type": "markdown",
   "metadata": {},
   "source": [
    "You can see the results now:"
   ]
  },
  {
   "cell_type": "code",
   "execution_count": null,
   "metadata": {},
   "outputs": [],
   "source": [
    "results_df"
   ]
  },
  {
   "cell_type": "markdown",
   "metadata": {},
   "source": [
    "Data from APIs may need some more pre processing than the previous files. Besides, you should study the API documentation to know how to interact with the portal. Not every open data portal behaves the same."
   ]
  },
  {
   "cell_type": "markdown",
   "metadata": {},
   "source": [
    "[home](#home)\n",
    "____\n",
    "<a id='part3'></a>\n",
    "\n",
    "## 3. Scraping"
   ]
  },
  {
   "cell_type": "markdown",
   "metadata": {},
   "source": [
    "Sometimes you are interested in data from the web. Let me get a table from wikipedia:"
   ]
  },
  {
   "cell_type": "code",
   "execution_count": 8,
   "metadata": {},
   "outputs": [
    {
     "data": {
      "text/html": [
       "\n",
       "        <iframe\n",
       "            width=\"700\"\n",
       "            height=\"300\"\n",
       "            src=\"https://en.wikipedia.org/wiki/Democracy_Index\"\n",
       "            frameborder=\"0\"\n",
       "            allowfullscreen\n",
       "        ></iframe>\n",
       "        "
      ],
      "text/plain": [
       "<IPython.lib.display.IFrame at 0x7ffb190299d0>"
      ]
     },
     "execution_count": 8,
     "metadata": {},
     "output_type": "execute_result"
    }
   ],
   "source": [
    "from IPython.display import IFrame  \n",
    "wikiLink=\"https://en.wikipedia.org/wiki/Democracy_Index\" \n",
    "IFrame(wikiLink, width=700, height=300)"
   ]
  },
  {
   "cell_type": "markdown",
   "metadata": {},
   "source": [
    "I will use pandas to get the table, but you need to install these first:\n",
    "* html5lib \n",
    "* beautifulsoup4\n",
    "* lxml"
   ]
  },
  {
   "cell_type": "code",
   "execution_count": 9,
   "metadata": {},
   "outputs": [],
   "source": [
    "dataWIKI=pd.read_html(wikiLink,header=0,flavor='bs4',attrs={'class': 'wikitable'})"
   ]
  },
  {
   "cell_type": "markdown",
   "metadata": {},
   "source": [
    "Pandas has this command **read_html** that will save lots of coding, above I just said:\n",
    "* The link to the webpage.\n",
    "* The position of the header.\n",
    "* The external library that will be used to extract the text (_flavor_).\n",
    "* The attributes of the table."
   ]
  },
  {
   "cell_type": "markdown",
   "metadata": {},
   "source": [
    "dataWIKI is not a data frame:"
   ]
  },
  {
   "cell_type": "code",
   "execution_count": 10,
   "metadata": {},
   "outputs": [
    {
     "data": {
      "text/plain": [
       "list"
      ]
     },
     "execution_count": 10,
     "metadata": {},
     "output_type": "execute_result"
    }
   ],
   "source": [
    "type(dataWIKI)"
   ]
  },
  {
   "cell_type": "markdown",
   "metadata": {},
   "source": [
    "The command **read_html** returns all the elements from the link with the same attributes. Let's see how many there are:"
   ]
  },
  {
   "cell_type": "code",
   "execution_count": 11,
   "metadata": {},
   "outputs": [
    {
     "data": {
      "text/plain": [
       "6"
      ]
     },
     "execution_count": 11,
     "metadata": {},
     "output_type": "execute_result"
    }
   ],
   "source": [
    "len(dataWIKI)"
   ]
  },
  {
   "cell_type": "markdown",
   "metadata": {},
   "source": [
    "This means you have six tables. Ours is the first one?"
   ]
  },
  {
   "cell_type": "code",
   "execution_count": 12,
   "metadata": {},
   "outputs": [
    {
     "data": {
      "text/html": [
       "<div>\n",
       "<style scoped>\n",
       "    .dataframe tbody tr th:only-of-type {\n",
       "        vertical-align: middle;\n",
       "    }\n",
       "\n",
       "    .dataframe tbody tr th {\n",
       "        vertical-align: top;\n",
       "    }\n",
       "\n",
       "    .dataframe thead th {\n",
       "        text-align: right;\n",
       "    }\n",
       "</style>\n",
       "<table border=\"1\" class=\"dataframe\">\n",
       "  <thead>\n",
       "    <tr style=\"text-align: right;\">\n",
       "      <th></th>\n",
       "      <th>Type of regime</th>\n",
       "      <th>Colors</th>\n",
       "      <th>Colors.1</th>\n",
       "      <th>Score</th>\n",
       "      <th>Countries</th>\n",
       "      <th>Countries (%)</th>\n",
       "      <th>World population (%)</th>\n",
       "      <th>GDP (%)</th>\n",
       "    </tr>\n",
       "  </thead>\n",
       "  <tbody>\n",
       "    <tr>\n",
       "      <th>0</th>\n",
       "      <td>Full democracies</td>\n",
       "      <td>NaN</td>\n",
       "      <td>NaN</td>\n",
       "      <td>8.01–10</td>\n",
       "      <td>23</td>\n",
       "      <td>13.8%</td>\n",
       "      <td>8.4%</td>\n",
       "      <td>27.5%</td>\n",
       "    </tr>\n",
       "    <tr>\n",
       "      <th>1</th>\n",
       "      <td>Flawed democracies</td>\n",
       "      <td>NaN</td>\n",
       "      <td>NaN</td>\n",
       "      <td>6.01–8</td>\n",
       "      <td>52</td>\n",
       "      <td>31.1%</td>\n",
       "      <td>41.0%</td>\n",
       "      <td>45.7%</td>\n",
       "    </tr>\n",
       "    <tr>\n",
       "      <th>2</th>\n",
       "      <td>Hybrid regimes</td>\n",
       "      <td>NaN</td>\n",
       "      <td>NaN</td>\n",
       "      <td>4.01–6</td>\n",
       "      <td>35</td>\n",
       "      <td>21.0%</td>\n",
       "      <td>15.0%</td>\n",
       "      <td>3.7%</td>\n",
       "    </tr>\n",
       "    <tr>\n",
       "      <th>3</th>\n",
       "      <td>Authoritarian regimes</td>\n",
       "      <td>NaN</td>\n",
       "      <td>NaN</td>\n",
       "      <td>0–4</td>\n",
       "      <td>57</td>\n",
       "      <td>34.1%</td>\n",
       "      <td>35.6%</td>\n",
       "      <td>23.1%</td>\n",
       "    </tr>\n",
       "  </tbody>\n",
       "</table>\n",
       "</div>"
      ],
      "text/plain": [
       "          Type of regime  Colors  Colors.1    Score  Countries Countries (%)  \\\n",
       "0       Full democracies     NaN       NaN  8.01–10         23         13.8%   \n",
       "1     Flawed democracies     NaN       NaN   6.01–8         52         31.1%   \n",
       "2         Hybrid regimes     NaN       NaN   4.01–6         35         21.0%   \n",
       "3  Authoritarian regimes     NaN       NaN      0–4         57         34.1%   \n",
       "\n",
       "  World population (%) GDP (%)  \n",
       "0                 8.4%   27.5%  \n",
       "1                41.0%   45.7%  \n",
       "2                15.0%    3.7%  \n",
       "3                35.6%   23.1%  "
      ]
     },
     "execution_count": 12,
     "metadata": {},
     "output_type": "execute_result"
    }
   ],
   "source": [
    "# remember that Python starts counting in ZERO!\n",
    "dataWIKI[0]"
   ]
  },
  {
   "cell_type": "markdown",
   "metadata": {},
   "source": [
    "It is the 6th table:"
   ]
  },
  {
   "cell_type": "code",
   "execution_count": 13,
   "metadata": {},
   "outputs": [
    {
     "data": {
      "text/html": [
       "<div>\n",
       "<style scoped>\n",
       "    .dataframe tbody tr th:only-of-type {\n",
       "        vertical-align: middle;\n",
       "    }\n",
       "\n",
       "    .dataframe tbody tr th {\n",
       "        vertical-align: top;\n",
       "    }\n",
       "\n",
       "    .dataframe thead th {\n",
       "        text-align: right;\n",
       "    }\n",
       "</style>\n",
       "<table border=\"1\" class=\"dataframe\">\n",
       "  <thead>\n",
       "    <tr style=\"text-align: right;\">\n",
       "      <th></th>\n",
       "      <th>Rank</th>\n",
       "      <th>.mw-parser-output .tooltip-dotted{border-bottom:1px dotted;cursor:help}Δ Rank</th>\n",
       "      <th>Country</th>\n",
       "      <th>Regime type</th>\n",
       "      <th>Overall score</th>\n",
       "      <th>Δ Score</th>\n",
       "      <th>Elec­toral pro­cess and plura­lism</th>\n",
       "      <th>Func­tioning of govern­ment</th>\n",
       "      <th>Poli­tical partici­pation</th>\n",
       "      <th>Poli­tical cul­ture</th>\n",
       "      <th>Civil liber­ties</th>\n",
       "    </tr>\n",
       "  </thead>\n",
       "  <tbody>\n",
       "    <tr>\n",
       "      <th>0</th>\n",
       "      <td>Full democracies</td>\n",
       "      <td>Full democracies</td>\n",
       "      <td>Full democracies</td>\n",
       "      <td>Full democracies</td>\n",
       "      <td>Full democracies</td>\n",
       "      <td>Full democracies</td>\n",
       "      <td>Full democracies</td>\n",
       "      <td>Full democracies</td>\n",
       "      <td>Full democracies</td>\n",
       "      <td>Full democracies</td>\n",
       "      <td>Full democracies</td>\n",
       "    </tr>\n",
       "    <tr>\n",
       "      <th>1</th>\n",
       "      <td>1</td>\n",
       "      <td>NaN</td>\n",
       "      <td>Norway</td>\n",
       "      <td>Full democracy</td>\n",
       "      <td>9.81</td>\n",
       "      <td>0.06</td>\n",
       "      <td>10.00</td>\n",
       "      <td>9.64</td>\n",
       "      <td>10.00</td>\n",
       "      <td>10.00</td>\n",
       "      <td>9.41</td>\n",
       "    </tr>\n",
       "    <tr>\n",
       "      <th>2</th>\n",
       "      <td>2</td>\n",
       "      <td>NaN</td>\n",
       "      <td>Iceland</td>\n",
       "      <td>Full democracy</td>\n",
       "      <td>9.37</td>\n",
       "      <td>0.21</td>\n",
       "      <td>10.00</td>\n",
       "      <td>8.57</td>\n",
       "      <td>8.89</td>\n",
       "      <td>10.00</td>\n",
       "      <td>9.41</td>\n",
       "    </tr>\n",
       "    <tr>\n",
       "      <th>3</th>\n",
       "      <td>3</td>\n",
       "      <td>NaN</td>\n",
       "      <td>Sweden</td>\n",
       "      <td>Full democracy</td>\n",
       "      <td>9.26</td>\n",
       "      <td>0.13</td>\n",
       "      <td>9.58</td>\n",
       "      <td>9.29</td>\n",
       "      <td>8.33</td>\n",
       "      <td>10.00</td>\n",
       "      <td>9.12</td>\n",
       "    </tr>\n",
       "    <tr>\n",
       "      <th>4</th>\n",
       "      <td>4</td>\n",
       "      <td>NaN</td>\n",
       "      <td>New Zealand</td>\n",
       "      <td>Full democracy</td>\n",
       "      <td>9.25</td>\n",
       "      <td>0.01</td>\n",
       "      <td>10.00</td>\n",
       "      <td>8.93</td>\n",
       "      <td>8.89</td>\n",
       "      <td>8.75</td>\n",
       "      <td>9.71</td>\n",
       "    </tr>\n",
       "    <tr>\n",
       "      <th>...</th>\n",
       "      <td>...</td>\n",
       "      <td>...</td>\n",
       "      <td>...</td>\n",
       "      <td>...</td>\n",
       "      <td>...</td>\n",
       "      <td>...</td>\n",
       "      <td>...</td>\n",
       "      <td>...</td>\n",
       "      <td>...</td>\n",
       "      <td>...</td>\n",
       "      <td>...</td>\n",
       "    </tr>\n",
       "    <tr>\n",
       "      <th>166</th>\n",
       "      <td>163</td>\n",
       "      <td>NaN</td>\n",
       "      <td>Chad</td>\n",
       "      <td>Authoritarian</td>\n",
       "      <td>1.55</td>\n",
       "      <td>0.06</td>\n",
       "      <td>0.00</td>\n",
       "      <td>0.00</td>\n",
       "      <td>1.67</td>\n",
       "      <td>3.75</td>\n",
       "      <td>2.35</td>\n",
       "    </tr>\n",
       "    <tr>\n",
       "      <th>167</th>\n",
       "      <td>164</td>\n",
       "      <td>NaN</td>\n",
       "      <td>Syria</td>\n",
       "      <td>Authoritarian</td>\n",
       "      <td>1.43</td>\n",
       "      <td>NaN</td>\n",
       "      <td>0.00</td>\n",
       "      <td>0.00</td>\n",
       "      <td>2.78</td>\n",
       "      <td>4.38</td>\n",
       "      <td>0.00</td>\n",
       "    </tr>\n",
       "    <tr>\n",
       "      <th>168</th>\n",
       "      <td>165</td>\n",
       "      <td>NaN</td>\n",
       "      <td>Central African Republic</td>\n",
       "      <td>Authoritarian</td>\n",
       "      <td>1.32</td>\n",
       "      <td>NaN</td>\n",
       "      <td>1.25</td>\n",
       "      <td>0.00</td>\n",
       "      <td>1.11</td>\n",
       "      <td>1.88</td>\n",
       "      <td>2.35</td>\n",
       "    </tr>\n",
       "    <tr>\n",
       "      <th>169</th>\n",
       "      <td>166</td>\n",
       "      <td>NaN</td>\n",
       "      <td>Democratic Republic of the Congo</td>\n",
       "      <td>Authoritarian</td>\n",
       "      <td>1.13</td>\n",
       "      <td>NaN</td>\n",
       "      <td>0.00</td>\n",
       "      <td>0.00</td>\n",
       "      <td>1.67</td>\n",
       "      <td>3.13</td>\n",
       "      <td>0.88</td>\n",
       "    </tr>\n",
       "    <tr>\n",
       "      <th>170</th>\n",
       "      <td>167</td>\n",
       "      <td>NaN</td>\n",
       "      <td>North Korea</td>\n",
       "      <td>Authoritarian</td>\n",
       "      <td>1.08</td>\n",
       "      <td>NaN</td>\n",
       "      <td>0.00</td>\n",
       "      <td>2.50</td>\n",
       "      <td>1.67</td>\n",
       "      <td>1.25</td>\n",
       "      <td>0.00</td>\n",
       "    </tr>\n",
       "  </tbody>\n",
       "</table>\n",
       "<p>171 rows × 11 columns</p>\n",
       "</div>"
      ],
      "text/plain": [
       "                 Rank  \\\n",
       "0    Full democracies   \n",
       "1                   1   \n",
       "2                   2   \n",
       "3                   3   \n",
       "4                   4   \n",
       "..                ...   \n",
       "166               163   \n",
       "167               164   \n",
       "168               165   \n",
       "169               166   \n",
       "170               167   \n",
       "\n",
       "    .mw-parser-output .tooltip-dotted{border-bottom:1px dotted;cursor:help}Δ Rank  \\\n",
       "0                                     Full democracies                              \n",
       "1                                                  NaN                              \n",
       "2                                                  NaN                              \n",
       "3                                                  NaN                              \n",
       "4                                                  NaN                              \n",
       "..                                                 ...                              \n",
       "166                                                NaN                              \n",
       "167                                                NaN                              \n",
       "168                                                NaN                              \n",
       "169                                                NaN                              \n",
       "170                                                NaN                              \n",
       "\n",
       "                              Country       Regime type     Overall score  \\\n",
       "0                    Full democracies  Full democracies  Full democracies   \n",
       "1                              Norway    Full democracy              9.81   \n",
       "2                             Iceland    Full democracy              9.37   \n",
       "3                              Sweden    Full democracy              9.26   \n",
       "4                         New Zealand    Full democracy              9.25   \n",
       "..                                ...               ...               ...   \n",
       "166                              Chad     Authoritarian              1.55   \n",
       "167                             Syria     Authoritarian              1.43   \n",
       "168          Central African Republic     Authoritarian              1.32   \n",
       "169  Democratic Republic of the Congo     Authoritarian              1.13   \n",
       "170                       North Korea     Authoritarian              1.08   \n",
       "\n",
       "              Δ Score Elec­toral pro­cess and plura­lism  \\\n",
       "0    Full democracies                   Full democracies   \n",
       "1                0.06                              10.00   \n",
       "2                0.21                              10.00   \n",
       "3                0.13                               9.58   \n",
       "4                0.01                              10.00   \n",
       "..                ...                                ...   \n",
       "166              0.06                               0.00   \n",
       "167               NaN                               0.00   \n",
       "168               NaN                               1.25   \n",
       "169               NaN                               0.00   \n",
       "170               NaN                               0.00   \n",
       "\n",
       "    Func­tioning of govern­ment Poli­tical partici­pation Poli­tical cul­ture  \\\n",
       "0              Full democracies          Full democracies    Full democracies   \n",
       "1                          9.64                     10.00               10.00   \n",
       "2                          8.57                      8.89               10.00   \n",
       "3                          9.29                      8.33               10.00   \n",
       "4                          8.93                      8.89                8.75   \n",
       "..                          ...                       ...                 ...   \n",
       "166                        0.00                      1.67                3.75   \n",
       "167                        0.00                      2.78                4.38   \n",
       "168                        0.00                      1.11                1.88   \n",
       "169                        0.00                      1.67                3.13   \n",
       "170                        2.50                      1.67                1.25   \n",
       "\n",
       "     Civil liber­ties  \n",
       "0    Full democracies  \n",
       "1                9.41  \n",
       "2                9.41  \n",
       "3                9.12  \n",
       "4                9.71  \n",
       "..                ...  \n",
       "166              2.35  \n",
       "167              0.00  \n",
       "168              2.35  \n",
       "169              0.88  \n",
       "170              0.00  \n",
       "\n",
       "[171 rows x 11 columns]"
      ]
     },
     "execution_count": 13,
     "metadata": {},
     "output_type": "execute_result"
    }
   ],
   "source": [
    "dataWIKI[5]"
   ]
  },
  {
   "cell_type": "markdown",
   "metadata": {},
   "source": [
    "Tables scrapped will bring different cleaning challenges. \n",
    "\n",
    "[home](#home)\n",
    "____\n",
    "<a id='part4'></a>\n",
    "\n",
    "## Social media data"
   ]
  },
  {
   "cell_type": "markdown",
   "metadata": {},
   "source": [
    "Social media offer APIs too that allow you to get _some_ data. In general, you need to register as a developer. Once you are a confirmed developer, Twitter, Facebook and others will allow you to get _some_ of their data (the more you pay the more they offer). \n",
    "\n",
    "Let's pay attention to Twitter. First, install **tweepy**"
   ]
  },
  {
   "cell_type": "code",
   "execution_count": 14,
   "metadata": {},
   "outputs": [
    {
     "name": "stdout",
     "output_type": "stream",
     "text": [
      "Name: tweepy\r\n",
      "Version: 4.4.0\r\n",
      "Summary: Twitter library for Python\r\n",
      "Home-page: https://www.tweepy.org/\r\n",
      "Author: Joshua Roesslein\r\n",
      "Author-email: tweepy@googlegroups.com\r\n",
      "License: MIT\r\n",
      "Location: /Users/JoseManuel/anaconda3/envs/Evans_GovAnalytics/lib/python3.7/site-packages\r\n",
      "Requires: requests-oauthlib, requests\r\n",
      "Required-by: \r\n"
     ]
    }
   ],
   "source": [
    "!pip show tweepy"
   ]
  },
  {
   "cell_type": "code",
   "execution_count": null,
   "metadata": {},
   "outputs": [],
   "source": [
    "#!pip install tweepy"
   ]
  },
  {
   "cell_type": "markdown",
   "metadata": {},
   "source": [
    "Tweepy is the key library, but you may need several other libraries according to your goals."
   ]
  },
  {
   "cell_type": "code",
   "execution_count": 16,
   "metadata": {},
   "outputs": [],
   "source": [
    "import tweepy"
   ]
  },
  {
   "cell_type": "markdown",
   "metadata": {},
   "source": [
    "Let me introduce myself to Twitter:"
   ]
  },
  {
   "cell_type": "code",
   "execution_count": 17,
   "metadata": {},
   "outputs": [],
   "source": [
    "# credentials\n",
    "consumer_key = '4FGun75UOi9UY6qm4we009wem'\n",
    "consumer_secret = 'RquKJeGPFSoOmqC8rIbWYVpBJUpThwn8MwcR9nlPMjBw7ZlN0T'\n",
    "access_token =  '174323243-1qsObTaMixxLSxnuzSAKCRLQ5HJN6tZPtK2hdA9D'\n",
    "access_token_secret = 'LPamRUuPyFlNsdtoXJ1irePyVGy7DWtyPJTmawyCiE4fP'\n",
    "\n",
    "# introducing myself:\n",
    "auth = tweepy.OAuthHandler(consumer_key, consumer_secret)\n",
    "auth.set_access_token(access_token, access_token_secret)\n",
    "api=tweepy.API(auth, wait_on_rate_limit=True,timeout=60,\n",
    "               parser=tweepy.parsers.JSONParser())"
   ]
  },
  {
   "cell_type": "markdown",
   "metadata": {},
   "source": [
    "Let me ask for some tweets from a particular user:"
   ]
  },
  {
   "cell_type": "code",
   "execution_count": 18,
   "metadata": {},
   "outputs": [],
   "source": [
    "\n",
    "who='@Minsa_Peru'\n",
    "howMany=20\n",
    "gottenTweets = api.user_timeline(screen_name = who, \n",
    "                                 count = howMany, \n",
    "                                 include_rts = False,\n",
    "                                 tweet_mode=\"extended\")"
   ]
  },
  {
   "cell_type": "markdown",
   "metadata": {},
   "source": [
    "In the previous cases, I got a table (a data frame), you should always check what you have:"
   ]
  },
  {
   "cell_type": "code",
   "execution_count": 19,
   "metadata": {},
   "outputs": [
    {
     "data": {
      "text/plain": [
       "list"
      ]
     },
     "execution_count": 19,
     "metadata": {},
     "output_type": "execute_result"
    }
   ],
   "source": [
    "type(gottenTweets)"
   ]
  },
  {
   "cell_type": "markdown",
   "metadata": {},
   "source": [
    "I have a list, then I could ask how many tweets I got (just to confirm):"
   ]
  },
  {
   "cell_type": "code",
   "execution_count": 20,
   "metadata": {},
   "outputs": [
    {
     "data": {
      "text/plain": [
       "20"
      ]
     },
     "execution_count": 20,
     "metadata": {},
     "output_type": "execute_result"
    }
   ],
   "source": [
    "len(gottenTweets)"
   ]
  },
  {
   "cell_type": "markdown",
   "metadata": {},
   "source": [
    "Let me view what I have in the first tweet:"
   ]
  },
  {
   "cell_type": "code",
   "execution_count": 21,
   "metadata": {},
   "outputs": [
    {
     "data": {
      "text/plain": [
       "{'created_at': 'Thu Jan 13 17:00:02 +0000 2022',\n",
       " 'id': 1481672398294306819,\n",
       " 'id_str': '1481672398294306819',\n",
       " 'full_text': '▶️ Sigue reforzando tu protección contra la #COVID19 ¡Ponte la tercera dosis! 💉✨#SiempreConElPueblo 💪 https://t.co/cTQCwBWRmc',\n",
       " 'truncated': False,\n",
       " 'display_text_range': [0, 101],\n",
       " 'entities': {'hashtags': [{'text': 'COVID19', 'indices': [44, 52]},\n",
       "   {'text': 'SiempreConElPueblo', 'indices': [80, 99]}],\n",
       "  'symbols': [],\n",
       "  'user_mentions': [],\n",
       "  'urls': [],\n",
       "  'media': [{'id': 1481631180046753798,\n",
       "    'id_str': '1481631180046753798',\n",
       "    'indices': [102, 125],\n",
       "    'media_url': 'http://pbs.twimg.com/media/FI_PtU7UYAYkxmy.jpg',\n",
       "    'media_url_https': 'https://pbs.twimg.com/media/FI_PtU7UYAYkxmy.jpg',\n",
       "    'url': 'https://t.co/cTQCwBWRmc',\n",
       "    'display_url': 'pic.twitter.com/cTQCwBWRmc',\n",
       "    'expanded_url': 'https://twitter.com/Minsa_Peru/status/1481672398294306819/photo/1',\n",
       "    'type': 'photo',\n",
       "    'sizes': {'thumb': {'w': 150, 'h': 150, 'resize': 'crop'},\n",
       "     'medium': {'w': 1025, 'h': 576, 'resize': 'fit'},\n",
       "     'small': {'w': 680, 'h': 382, 'resize': 'fit'},\n",
       "     'large': {'w': 1025, 'h': 576, 'resize': 'fit'}}}]},\n",
       " 'extended_entities': {'media': [{'id': 1481631180046753798,\n",
       "    'id_str': '1481631180046753798',\n",
       "    'indices': [102, 125],\n",
       "    'media_url': 'http://pbs.twimg.com/media/FI_PtU7UYAYkxmy.jpg',\n",
       "    'media_url_https': 'https://pbs.twimg.com/media/FI_PtU7UYAYkxmy.jpg',\n",
       "    'url': 'https://t.co/cTQCwBWRmc',\n",
       "    'display_url': 'pic.twitter.com/cTQCwBWRmc',\n",
       "    'expanded_url': 'https://twitter.com/Minsa_Peru/status/1481672398294306819/photo/1',\n",
       "    'type': 'photo',\n",
       "    'sizes': {'thumb': {'w': 150, 'h': 150, 'resize': 'crop'},\n",
       "     'medium': {'w': 1025, 'h': 576, 'resize': 'fit'},\n",
       "     'small': {'w': 680, 'h': 382, 'resize': 'fit'},\n",
       "     'large': {'w': 1025, 'h': 576, 'resize': 'fit'}}}]},\n",
       " 'source': '<a href=\"https://studio.twitter.com\" rel=\"nofollow\">Twitter Media Studio</a>',\n",
       " 'in_reply_to_status_id': None,\n",
       " 'in_reply_to_status_id_str': None,\n",
       " 'in_reply_to_user_id': None,\n",
       " 'in_reply_to_user_id_str': None,\n",
       " 'in_reply_to_screen_name': None,\n",
       " 'user': {'id': 138471254,\n",
       "  'id_str': '138471254',\n",
       "  'name': 'Ministerio de Salud',\n",
       "  'screen_name': 'Minsa_Peru',\n",
       "  'location': 'Lima, Perú',\n",
       "  'description': '#PongoElHombro\\n#NoBajemosLaGuardia',\n",
       "  'url': 'https://t.co/Ls0vnjRc6A',\n",
       "  'entities': {'url': {'urls': [{'url': 'https://t.co/Ls0vnjRc6A',\n",
       "      'expanded_url': 'http://www.gob.pe/minsa',\n",
       "      'display_url': 'gob.pe/minsa',\n",
       "      'indices': [0, 23]}]},\n",
       "   'description': {'urls': []}},\n",
       "  'protected': False,\n",
       "  'followers_count': 1091525,\n",
       "  'friends_count': 3634,\n",
       "  'listed_count': 1367,\n",
       "  'created_at': 'Thu Apr 29 16:50:55 +0000 2010',\n",
       "  'favourites_count': 27496,\n",
       "  'utc_offset': None,\n",
       "  'time_zone': None,\n",
       "  'geo_enabled': True,\n",
       "  'verified': True,\n",
       "  'statuses_count': 70143,\n",
       "  'lang': None,\n",
       "  'contributors_enabled': False,\n",
       "  'is_translator': False,\n",
       "  'is_translation_enabled': False,\n",
       "  'profile_background_color': 'ABB8C2',\n",
       "  'profile_background_image_url': 'http://abs.twimg.com/images/themes/theme16/bg.gif',\n",
       "  'profile_background_image_url_https': 'https://abs.twimg.com/images/themes/theme16/bg.gif',\n",
       "  'profile_background_tile': False,\n",
       "  'profile_image_url': 'http://pbs.twimg.com/profile_images/1289445523313831937/zDkbHW8q_normal.jpg',\n",
       "  'profile_image_url_https': 'https://pbs.twimg.com/profile_images/1289445523313831937/zDkbHW8q_normal.jpg',\n",
       "  'profile_banner_url': 'https://pbs.twimg.com/profile_banners/138471254/1642087089',\n",
       "  'profile_link_color': '1B95E0',\n",
       "  'profile_sidebar_border_color': 'FFFFFF',\n",
       "  'profile_sidebar_fill_color': 'DDFFCC',\n",
       "  'profile_text_color': '333333',\n",
       "  'profile_use_background_image': True,\n",
       "  'has_extended_profile': True,\n",
       "  'default_profile': False,\n",
       "  'default_profile_image': False,\n",
       "  'following': True,\n",
       "  'follow_request_sent': False,\n",
       "  'notifications': False,\n",
       "  'translator_type': 'regular',\n",
       "  'withheld_in_countries': []},\n",
       " 'geo': None,\n",
       " 'coordinates': None,\n",
       " 'place': None,\n",
       " 'contributors': None,\n",
       " 'is_quote_status': False,\n",
       " 'retweet_count': 6,\n",
       " 'favorite_count': 33,\n",
       " 'favorited': False,\n",
       " 'retweeted': False,\n",
       " 'possibly_sensitive': False,\n",
       " 'lang': 'es'}"
      ]
     },
     "execution_count": 21,
     "metadata": {},
     "output_type": "execute_result"
    }
   ],
   "source": [
    "gottenTweets[0]"
   ]
  },
  {
   "cell_type": "markdown",
   "metadata": {},
   "source": [
    "It will take some time to become familiar with a [tweet object structure](https://developer.twitter.com/en/docs/twitter-api/data-dictionary/object-model/tweet). Let's find out how the tweets are currently stored:"
   ]
  },
  {
   "cell_type": "code",
   "execution_count": 22,
   "metadata": {},
   "outputs": [
    {
     "data": {
      "text/plain": [
       "dict"
      ]
     },
     "execution_count": 22,
     "metadata": {},
     "output_type": "execute_result"
    }
   ],
   "source": [
    "type(gottenTweets[0])"
   ]
  },
  {
   "cell_type": "markdown",
   "metadata": {},
   "source": [
    "Now you know that each tweet is stored as a dictionaary. Let me see the dict **keys**:"
   ]
  },
  {
   "cell_type": "code",
   "execution_count": 23,
   "metadata": {},
   "outputs": [
    {
     "data": {
      "text/plain": [
       "dict_keys(['created_at', 'id', 'id_str', 'full_text', 'truncated', 'display_text_range', 'entities', 'extended_entities', 'source', 'in_reply_to_status_id', 'in_reply_to_status_id_str', 'in_reply_to_user_id', 'in_reply_to_user_id_str', 'in_reply_to_screen_name', 'user', 'geo', 'coordinates', 'place', 'contributors', 'is_quote_status', 'retweet_count', 'favorite_count', 'favorited', 'retweeted', 'possibly_sensitive', 'lang'])"
      ]
     },
     "execution_count": 23,
     "metadata": {},
     "output_type": "execute_result"
    }
   ],
   "source": [
    "gottenTweets[0].keys()"
   ]
  },
  {
   "cell_type": "markdown",
   "metadata": {},
   "source": [
    "Let me recover some info from each tweet:"
   ]
  },
  {
   "cell_type": "code",
   "execution_count": 24,
   "metadata": {},
   "outputs": [],
   "source": [
    "dates=[t['created_at'] for t in gottenTweets]\n",
    "ids=[t['id'] for t in gottenTweets]\n",
    "rts=[t['retweet_count'] for t in gottenTweets]\n",
    "likes=[t['favorite_count'] for t in gottenTweets]\n",
    "text=[t['full_text'] for t in gottenTweets]"
   ]
  },
  {
   "cell_type": "markdown",
   "metadata": {},
   "source": [
    "Each of the objects created is a list (dates, ids,rts,likes and text). Let me show you one:"
   ]
  },
  {
   "cell_type": "code",
   "execution_count": 25,
   "metadata": {},
   "outputs": [
    {
     "data": {
      "text/plain": [
       "['▶️ Sigue reforzando tu protección contra la #COVID19 ¡Ponte la tercera dosis! 💉✨#SiempreConElPueblo 💪 https://t.co/cTQCwBWRmc',\n",
       " 'Así será la vacunación contra la #COVID19 de los niños y niñas entre 5 y 11 años. Este es el protocolo para esa vacunación aprobado por el Ministerio de Salud.\\n\\nhttps://t.co/nrLTaoT5Fd',\n",
       " 'El #Minsa inauguró en la @DirisLimaEste, un laboratorio de biología molecular #COVID19 de última tecnología, el cual procesará 500 pruebas diarias de esta zona de la capital. Continuamos ampliando la oferta del servicio de diagnóstico temprano para la población. https://t.co/567QNRA4ST',\n",
       " 'ACTUALIZACIÓN | Esta es la situación de la #COVID19 en Perú hasta las 22:00 horas del 11 de enero de 2022. #NoBajemosLaGuardia\\n\\nMás información: https://t.co/dXrZkg9Luc https://t.co/klV7BNqk2j',\n",
       " 'ACTUALIZACIÓN | Esta es la situación de la vacunación contra la #COVID19 en Perú hasta las 18:04 horas del 12 de enero de 2022. #VacunateContraLaCovid19 https://t.co/NMCptnXuB3',\n",
       " 'En reunión de trabajo, el Viceministro de Prestaciones y Aseguramiento de Salud, Augusto Tarazona, y el congresista Luis Picón Quedo, de la región Huánuco, dialogaron sobre la lucha contra la pandemia y el fortalecimiento de la atención en el nuevo hospital de Ate Vitarte. https://t.co/oFigtip8P0',\n",
       " 'El ministro Hernando Cevallos, se reunió con el gobernador regional de Ayacucho, Carlos Rúa Carbajal y el alcalde de Puquio Alfonso Mora, para tratar el proyecto del nuevo hospital en Puquio, provincia Lucanas en Ayacucho. https://t.co/TpgniwhsVm',\n",
       " 'La reunión tuvo como objetivo tocar temas como la estrategia para afrontar la tercera ola de la #COVID19, el fortalecimiento de la vacunación y de los servicios de salud en la región. https://t.co/HlxCM8cO34',\n",
       " 'Esta tarde, el viceministro de Prestaciones y Aseguramiento en Salud, Augusto Tarazona, se reunió con el gobernador regional de Cajamarca, Mesías Guevara y con el director regional de educación, José Alarcón. https://t.co/c4THtZmWy0',\n",
       " 'El titular del sector Salud informó que se viene dando un incremento sustancial de casos positivos a #COVID19 y hemos pasado de 26 mil a 81 mil contagios por semana. https://t.co/VlVZukxq6R',\n",
       " 'Desde el 23 de enero, las personas mayores de 50 años deberán presentar su carnet de vacunación con la dosis de refuerzo para poder ingresar a espacios públicos cerrados, afirmó el ministro Cevallos en la conferencia del Consejo de Ministros. https://t.co/E0HkVmFkal',\n",
       " '@litolobo En la RM 1275-2021 se establece que el descanso medico la puede dar el médico o responsable de la oficina de salud en el trabajo, en esto solo los primeros 20 días, porque luego @Esslud debe convalidar el certificado.',\n",
       " 'La disminución del período de aislamiento en Lima Metropilitana y el Callao, se debe a que es el área donde predomina la variante ómicron, en un 82 %. .\\n\\nSe evalúa su aplicación en regiones, de acuerdo al avance de casos de ómicron. https://t.co/zxpcbdvA4s',\n",
       " '\"El tiempo de aislamiento de las personas contagiadas por COVID-19 será de 10 días en Lima Metropolitana y Callao, con excepción de personas que aún se encuentren con síntomas respiratorios o fiebre\", anunció el ministro Hernando Cevallos. La medida regirá desde mañana. https://t.co/25kNe9WTgG',\n",
       " '▶️ Cuida la salud de tu niño o niña durante la temporada de lluvias e inundaciones. #TemporadaDeLluvias 🌧️ #LaSaludEsTuDerecho ✨ https://t.co/hE7OLqve6c',\n",
       " 'ACTUALIZACIÓN | Esta es la situación de la #COVID19 en Perú hasta las 22:00 horas del 10 de enero de 2022. #NoBajemosLaGuardia\\n\\nMás información: https://t.co/mLiqhCxfR3 https://t.co/XYcbseyoFK',\n",
       " 'La mejora en el sistema de salud de Áncash y medidas para afrontar la tercera ola de la #COVID19 fueron evaluadas por el ministro Hernando Cevallos y el congresista Elias Varas https://t.co/iTkRu7WRLJ',\n",
       " 'El ministro Hernando Cevallos dialogó con la congresista María Zeta y los alcaldes Justo Eche, de Sechura, y Juan Vite, de Parachique, sobre  mejoras en el primer nivel de atención la posibilidad de implementar un centro de salud para esas localidades https://t.co/7YyjS4chwf',\n",
       " 'Esta tarde, el ministro Hernando Cevallos sostuvo una reunión con la congresista María Córdova Lobatón con el objetivo de informar las medidas y trabajos que vienen realizando para fortalecer la primera línea de atención y hacerle frente a la #COVID19. https://t.co/OxjxaSzajf',\n",
       " 'Hoy, hasta las 5:00 p.m., se atendieron 25 079 llamadas, de las cuales el 30% son malintencionadas. Instamos a la población a hacer un uso correcto de la Línea 113 y así poder brindar una atención oportuna a quienes lo requieran. https://t.co/Sj0H6gTuaa']"
      ]
     },
     "execution_count": 25,
     "metadata": {},
     "output_type": "execute_result"
    }
   ],
   "source": [
    "text"
   ]
  },
  {
   "cell_type": "markdown",
   "metadata": {},
   "source": [
    "Let me create a data frame with those lists:"
   ]
  },
  {
   "cell_type": "code",
   "execution_count": 26,
   "metadata": {},
   "outputs": [],
   "source": [
    "tweetsAsDF=pd.DataFrame({'dates':dates,'ids':ids,'rts':rts,'likes':likes,'text':text})"
   ]
  },
  {
   "cell_type": "code",
   "execution_count": 27,
   "metadata": {},
   "outputs": [
    {
     "data": {
      "text/html": [
       "<div>\n",
       "<style scoped>\n",
       "    .dataframe tbody tr th:only-of-type {\n",
       "        vertical-align: middle;\n",
       "    }\n",
       "\n",
       "    .dataframe tbody tr th {\n",
       "        vertical-align: top;\n",
       "    }\n",
       "\n",
       "    .dataframe thead th {\n",
       "        text-align: right;\n",
       "    }\n",
       "</style>\n",
       "<table border=\"1\" class=\"dataframe\">\n",
       "  <thead>\n",
       "    <tr style=\"text-align: right;\">\n",
       "      <th></th>\n",
       "      <th>dates</th>\n",
       "      <th>ids</th>\n",
       "      <th>rts</th>\n",
       "      <th>likes</th>\n",
       "      <th>text</th>\n",
       "    </tr>\n",
       "  </thead>\n",
       "  <tbody>\n",
       "    <tr>\n",
       "      <th>0</th>\n",
       "      <td>Thu Jan 13 17:00:02 +0000 2022</td>\n",
       "      <td>1481672398294306819</td>\n",
       "      <td>6</td>\n",
       "      <td>33</td>\n",
       "      <td>▶️ Sigue reforzando tu protección contra la #C...</td>\n",
       "    </tr>\n",
       "    <tr>\n",
       "      <th>1</th>\n",
       "      <td>Thu Jan 13 15:59:57 +0000 2022</td>\n",
       "      <td>1481657277853552646</td>\n",
       "      <td>130</td>\n",
       "      <td>214</td>\n",
       "      <td>Así será la vacunación contra la #COVID19 de l...</td>\n",
       "    </tr>\n",
       "    <tr>\n",
       "      <th>2</th>\n",
       "      <td>Thu Jan 13 14:27:35 +0000 2022</td>\n",
       "      <td>1481634031020097540</td>\n",
       "      <td>16</td>\n",
       "      <td>58</td>\n",
       "      <td>El #Minsa inauguró en la @DirisLimaEste, un la...</td>\n",
       "    </tr>\n",
       "    <tr>\n",
       "      <th>3</th>\n",
       "      <td>Thu Jan 13 03:43:42 +0000 2022</td>\n",
       "      <td>1481471994336002049</td>\n",
       "      <td>250</td>\n",
       "      <td>678</td>\n",
       "      <td>ACTUALIZACIÓN | Esta es la situación de la #CO...</td>\n",
       "    </tr>\n",
       "    <tr>\n",
       "      <th>4</th>\n",
       "      <td>Thu Jan 13 03:17:09 +0000 2022</td>\n",
       "      <td>1481465313107582979</td>\n",
       "      <td>64</td>\n",
       "      <td>274</td>\n",
       "      <td>ACTUALIZACIÓN | Esta es la situación de la vac...</td>\n",
       "    </tr>\n",
       "    <tr>\n",
       "      <th>5</th>\n",
       "      <td>Thu Jan 13 02:55:15 +0000 2022</td>\n",
       "      <td>1481459801959931904</td>\n",
       "      <td>2</td>\n",
       "      <td>42</td>\n",
       "      <td>En reunión de trabajo, el Viceministro de Pres...</td>\n",
       "    </tr>\n",
       "    <tr>\n",
       "      <th>6</th>\n",
       "      <td>Thu Jan 13 01:37:07 +0000 2022</td>\n",
       "      <td>1481440140530786305</td>\n",
       "      <td>8</td>\n",
       "      <td>50</td>\n",
       "      <td>El ministro Hernando Cevallos, se reunió con e...</td>\n",
       "    </tr>\n",
       "    <tr>\n",
       "      <th>7</th>\n",
       "      <td>Thu Jan 13 00:07:36 +0000 2022</td>\n",
       "      <td>1481417609945956360</td>\n",
       "      <td>2</td>\n",
       "      <td>16</td>\n",
       "      <td>La reunión tuvo como objetivo tocar temas como...</td>\n",
       "    </tr>\n",
       "    <tr>\n",
       "      <th>8</th>\n",
       "      <td>Thu Jan 13 00:07:35 +0000 2022</td>\n",
       "      <td>1481417605999124487</td>\n",
       "      <td>6</td>\n",
       "      <td>41</td>\n",
       "      <td>Esta tarde, el viceministro de Prestaciones y ...</td>\n",
       "    </tr>\n",
       "    <tr>\n",
       "      <th>9</th>\n",
       "      <td>Wed Jan 12 21:14:51 +0000 2022</td>\n",
       "      <td>1481374138849759241</td>\n",
       "      <td>26</td>\n",
       "      <td>144</td>\n",
       "      <td>El titular del sector Salud informó que se vie...</td>\n",
       "    </tr>\n",
       "    <tr>\n",
       "      <th>10</th>\n",
       "      <td>Wed Jan 12 21:14:50 +0000 2022</td>\n",
       "      <td>1481374133954953218</td>\n",
       "      <td>402</td>\n",
       "      <td>1143</td>\n",
       "      <td>Desde el 23 de enero, las personas mayores de ...</td>\n",
       "    </tr>\n",
       "    <tr>\n",
       "      <th>11</th>\n",
       "      <td>Wed Jan 12 18:36:51 +0000 2022</td>\n",
       "      <td>1481334375967076354</td>\n",
       "      <td>10</td>\n",
       "      <td>24</td>\n",
       "      <td>@litolobo En la RM 1275-2021 se establece que ...</td>\n",
       "    </tr>\n",
       "    <tr>\n",
       "      <th>12</th>\n",
       "      <td>Wed Jan 12 13:17:51 +0000 2022</td>\n",
       "      <td>1481254097290514435</td>\n",
       "      <td>23</td>\n",
       "      <td>88</td>\n",
       "      <td>La disminución del período de aislamiento en L...</td>\n",
       "    </tr>\n",
       "    <tr>\n",
       "      <th>13</th>\n",
       "      <td>Wed Jan 12 13:17:47 +0000 2022</td>\n",
       "      <td>1481254078692966405</td>\n",
       "      <td>319</td>\n",
       "      <td>721</td>\n",
       "      <td>\"El tiempo de aislamiento de las personas cont...</td>\n",
       "    </tr>\n",
       "    <tr>\n",
       "      <th>14</th>\n",
       "      <td>Wed Jan 12 13:04:31 +0000 2022</td>\n",
       "      <td>1481250738533769220</td>\n",
       "      <td>4</td>\n",
       "      <td>20</td>\n",
       "      <td>▶️ Cuida la salud de tu niño o niña durante la...</td>\n",
       "    </tr>\n",
       "    <tr>\n",
       "      <th>15</th>\n",
       "      <td>Wed Jan 12 03:24:32 +0000 2022</td>\n",
       "      <td>1481104783733833732</td>\n",
       "      <td>457</td>\n",
       "      <td>947</td>\n",
       "      <td>ACTUALIZACIÓN | Esta es la situación de la #CO...</td>\n",
       "    </tr>\n",
       "    <tr>\n",
       "      <th>16</th>\n",
       "      <td>Wed Jan 12 03:07:51 +0000 2022</td>\n",
       "      <td>1481100584757436417</td>\n",
       "      <td>5</td>\n",
       "      <td>16</td>\n",
       "      <td>La mejora en el sistema de salud de Áncash y m...</td>\n",
       "    </tr>\n",
       "    <tr>\n",
       "      <th>17</th>\n",
       "      <td>Wed Jan 12 03:07:50 +0000 2022</td>\n",
       "      <td>1481100580542164993</td>\n",
       "      <td>11</td>\n",
       "      <td>52</td>\n",
       "      <td>El ministro Hernando Cevallos dialogó con la c...</td>\n",
       "    </tr>\n",
       "    <tr>\n",
       "      <th>18</th>\n",
       "      <td>Wed Jan 12 02:30:00 +0000 2022</td>\n",
       "      <td>1481091058423402497</td>\n",
       "      <td>6</td>\n",
       "      <td>44</td>\n",
       "      <td>Esta tarde, el ministro Hernando Cevallos sost...</td>\n",
       "    </tr>\n",
       "    <tr>\n",
       "      <th>19</th>\n",
       "      <td>Wed Jan 12 01:29:11 +0000 2022</td>\n",
       "      <td>1481075756172480512</td>\n",
       "      <td>16</td>\n",
       "      <td>70</td>\n",
       "      <td>Hoy, hasta las 5:00 p.m., se atendieron 25 079...</td>\n",
       "    </tr>\n",
       "  </tbody>\n",
       "</table>\n",
       "</div>"
      ],
      "text/plain": [
       "                             dates                  ids  rts  likes  \\\n",
       "0   Thu Jan 13 17:00:02 +0000 2022  1481672398294306819    6     33   \n",
       "1   Thu Jan 13 15:59:57 +0000 2022  1481657277853552646  130    214   \n",
       "2   Thu Jan 13 14:27:35 +0000 2022  1481634031020097540   16     58   \n",
       "3   Thu Jan 13 03:43:42 +0000 2022  1481471994336002049  250    678   \n",
       "4   Thu Jan 13 03:17:09 +0000 2022  1481465313107582979   64    274   \n",
       "5   Thu Jan 13 02:55:15 +0000 2022  1481459801959931904    2     42   \n",
       "6   Thu Jan 13 01:37:07 +0000 2022  1481440140530786305    8     50   \n",
       "7   Thu Jan 13 00:07:36 +0000 2022  1481417609945956360    2     16   \n",
       "8   Thu Jan 13 00:07:35 +0000 2022  1481417605999124487    6     41   \n",
       "9   Wed Jan 12 21:14:51 +0000 2022  1481374138849759241   26    144   \n",
       "10  Wed Jan 12 21:14:50 +0000 2022  1481374133954953218  402   1143   \n",
       "11  Wed Jan 12 18:36:51 +0000 2022  1481334375967076354   10     24   \n",
       "12  Wed Jan 12 13:17:51 +0000 2022  1481254097290514435   23     88   \n",
       "13  Wed Jan 12 13:17:47 +0000 2022  1481254078692966405  319    721   \n",
       "14  Wed Jan 12 13:04:31 +0000 2022  1481250738533769220    4     20   \n",
       "15  Wed Jan 12 03:24:32 +0000 2022  1481104783733833732  457    947   \n",
       "16  Wed Jan 12 03:07:51 +0000 2022  1481100584757436417    5     16   \n",
       "17  Wed Jan 12 03:07:50 +0000 2022  1481100580542164993   11     52   \n",
       "18  Wed Jan 12 02:30:00 +0000 2022  1481091058423402497    6     44   \n",
       "19  Wed Jan 12 01:29:11 +0000 2022  1481075756172480512   16     70   \n",
       "\n",
       "                                                 text  \n",
       "0   ▶️ Sigue reforzando tu protección contra la #C...  \n",
       "1   Así será la vacunación contra la #COVID19 de l...  \n",
       "2   El #Minsa inauguró en la @DirisLimaEste, un la...  \n",
       "3   ACTUALIZACIÓN | Esta es la situación de la #CO...  \n",
       "4   ACTUALIZACIÓN | Esta es la situación de la vac...  \n",
       "5   En reunión de trabajo, el Viceministro de Pres...  \n",
       "6   El ministro Hernando Cevallos, se reunió con e...  \n",
       "7   La reunión tuvo como objetivo tocar temas como...  \n",
       "8   Esta tarde, el viceministro de Prestaciones y ...  \n",
       "9   El titular del sector Salud informó que se vie...  \n",
       "10  Desde el 23 de enero, las personas mayores de ...  \n",
       "11  @litolobo En la RM 1275-2021 se establece que ...  \n",
       "12  La disminución del período de aislamiento en L...  \n",
       "13  \"El tiempo de aislamiento de las personas cont...  \n",
       "14  ▶️ Cuida la salud de tu niño o niña durante la...  \n",
       "15  ACTUALIZACIÓN | Esta es la situación de la #CO...  \n",
       "16  La mejora en el sistema de salud de Áncash y m...  \n",
       "17  El ministro Hernando Cevallos dialogó con la c...  \n",
       "18  Esta tarde, el ministro Hernando Cevallos sost...  \n",
       "19  Hoy, hasta las 5:00 p.m., se atendieron 25 079...  "
      ]
     },
     "execution_count": 27,
     "metadata": {},
     "output_type": "execute_result"
    }
   ],
   "source": [
    "tweetsAsDF"
   ]
  },
  {
   "cell_type": "markdown",
   "metadata": {},
   "source": [
    "[home](#home)"
   ]
  }
 ],
 "metadata": {
  "anaconda-cloud": {
   "attach-environment": true,
   "summary": "test"
  },
  "hide_input": false,
  "kernelspec": {
   "display_name": "Python 3",
   "language": "python",
   "name": "python3"
  },
  "language_info": {
   "codemirror_mode": {
    "name": "ipython",
    "version": 3
   },
   "file_extension": ".py",
   "mimetype": "text/x-python",
   "name": "python",
   "nbconvert_exporter": "python",
   "pygments_lexer": "ipython3",
   "version": "3.8.6"
  }
 },
 "nbformat": 4,
 "nbformat_minor": 1
}
